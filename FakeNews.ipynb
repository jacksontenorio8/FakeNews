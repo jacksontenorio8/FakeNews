{
  "nbformat": 4,
  "nbformat_minor": 0,
  "metadata": {
    "colab": {
      "provenance": [],
      "mount_file_id": "1lmzEO3GNL-TK8lr5_ozvJgCUnYwSlEXC",
      "authorship_tag": "ABX9TyMSiNSLkcVwDY22Aot8Rk2H",
      "include_colab_link": true
    },
    "kernelspec": {
      "name": "python3",
      "display_name": "Python 3"
    },
    "language_info": {
      "name": "python"
    }
  },
  "cells": [
    {
      "cell_type": "markdown",
      "metadata": {
        "id": "view-in-github",
        "colab_type": "text"
      },
      "source": [
        "<a href=\"https://colab.research.google.com/github/jacksontenorio8/FakeNews/blob/main/FakeNews.ipynb\" target=\"_parent\"><img src=\"https://colab.research.google.com/assets/colab-badge.svg\" alt=\"Open In Colab\"/></a>"
      ]
    },
    {
      "cell_type": "code",
      "execution_count": 7,
      "metadata": {
        "id": "v7NLUONJ_fiA"
      },
      "outputs": [],
      "source": [
        "import pandas as pd\n",
        "import numpy as np\n",
        "import re\n",
        "import nltk\n",
        "from nltk.corpus import stopwords\n",
        "from nltk.stem.porter import PorterStemmer\n",
        "from sklearn.feature_extraction.text import TfidfVectorizer\n",
        "from sklearn.model_selection import train_test_split\n",
        "from sklearn.linear_model import LogisticRegression\n",
        "from sklearn.metrics import accuracy_score "
      ]
    },
    {
      "cell_type": "code",
      "source": [
        "nltk.download('stopwords')"
      ],
      "metadata": {
        "colab": {
          "base_uri": "https://localhost:8080/"
        },
        "id": "MxSwicO39fR1",
        "outputId": "b2aba454-290b-4d6e-e998-440f0f700810"
      },
      "execution_count": 8,
      "outputs": [
        {
          "output_type": "stream",
          "name": "stderr",
          "text": [
            "[nltk_data] Downloading package stopwords to /root/nltk_data...\n",
            "[nltk_data]   Package stopwords is already up-to-date!\n"
          ]
        },
        {
          "output_type": "execute_result",
          "data": {
            "text/plain": [
              "True"
            ]
          },
          "metadata": {},
          "execution_count": 8
        }
      ]
    },
    {
      "cell_type": "code",
      "source": [
        "print(stopwords.words('portuguese'))"
      ],
      "metadata": {
        "colab": {
          "base_uri": "https://localhost:8080/"
        },
        "id": "hx06zTXe-TZ8",
        "outputId": "f91cc25a-9683-4812-e941-27732d7c5c1d"
      },
      "execution_count": 9,
      "outputs": [
        {
          "output_type": "stream",
          "name": "stdout",
          "text": [
            "['a', 'à', 'ao', 'aos', 'aquela', 'aquelas', 'aquele', 'aqueles', 'aquilo', 'as', 'às', 'até', 'com', 'como', 'da', 'das', 'de', 'dela', 'delas', 'dele', 'deles', 'depois', 'do', 'dos', 'e', 'é', 'ela', 'elas', 'ele', 'eles', 'em', 'entre', 'era', 'eram', 'éramos', 'essa', 'essas', 'esse', 'esses', 'esta', 'está', 'estamos', 'estão', 'estar', 'estas', 'estava', 'estavam', 'estávamos', 'este', 'esteja', 'estejam', 'estejamos', 'estes', 'esteve', 'estive', 'estivemos', 'estiver', 'estivera', 'estiveram', 'estivéramos', 'estiverem', 'estivermos', 'estivesse', 'estivessem', 'estivéssemos', 'estou', 'eu', 'foi', 'fomos', 'for', 'fora', 'foram', 'fôramos', 'forem', 'formos', 'fosse', 'fossem', 'fôssemos', 'fui', 'há', 'haja', 'hajam', 'hajamos', 'hão', 'havemos', 'haver', 'hei', 'houve', 'houvemos', 'houver', 'houvera', 'houverá', 'houveram', 'houvéramos', 'houverão', 'houverei', 'houverem', 'houveremos', 'houveria', 'houveriam', 'houveríamos', 'houvermos', 'houvesse', 'houvessem', 'houvéssemos', 'isso', 'isto', 'já', 'lhe', 'lhes', 'mais', 'mas', 'me', 'mesmo', 'meu', 'meus', 'minha', 'minhas', 'muito', 'na', 'não', 'nas', 'nem', 'no', 'nos', 'nós', 'nossa', 'nossas', 'nosso', 'nossos', 'num', 'numa', 'o', 'os', 'ou', 'para', 'pela', 'pelas', 'pelo', 'pelos', 'por', 'qual', 'quando', 'que', 'quem', 'são', 'se', 'seja', 'sejam', 'sejamos', 'sem', 'ser', 'será', 'serão', 'serei', 'seremos', 'seria', 'seriam', 'seríamos', 'seu', 'seus', 'só', 'somos', 'sou', 'sua', 'suas', 'também', 'te', 'tem', 'tém', 'temos', 'tenha', 'tenham', 'tenhamos', 'tenho', 'terá', 'terão', 'terei', 'teremos', 'teria', 'teriam', 'teríamos', 'teu', 'teus', 'teve', 'tinha', 'tinham', 'tínhamos', 'tive', 'tivemos', 'tiver', 'tivera', 'tiveram', 'tivéramos', 'tiverem', 'tivermos', 'tivesse', 'tivessem', 'tivéssemos', 'tu', 'tua', 'tuas', 'um', 'uma', 'você', 'vocês', 'vos']\n"
          ]
        }
      ]
    },
    {
      "cell_type": "code",
      "source": [
        "df = pd.read_csv('/content/drive/MyDrive/fakenews/true.csv', encoding='utf-8')"
      ],
      "metadata": {
        "id": "8GufIhFJC7s2"
      },
      "execution_count": 10,
      "outputs": []
    },
    {
      "cell_type": "markdown",
      "source": [
        "# Nova secção"
      ],
      "metadata": {
        "id": "Mb83u2ULF0bn"
      }
    },
    {
      "cell_type": "code",
      "source": [
        "df.head()"
      ],
      "metadata": {
        "colab": {
          "base_uri": "https://localhost:8080/",
          "height": 337
        },
        "id": "nsEuoIo9Do8w",
        "outputId": "302dd6e4-84a8-4e12-9e56-8534b89ec8d2"
      },
      "execution_count": 11,
      "outputs": [
        {
          "output_type": "execute_result",
          "data": {
            "text/plain": [
              "                                               title  \\\n",
              "0  Jovem Pan: o que é falso e o que é verdadeiro ...   \n",
              "1  Jovem Pan: o que é falso e o que é verdadeiro ...   \n",
              "2  De cargos secretos a segurança: veja erros e a...   \n",
              "3  De cargos secretos a segurança: veja erros e a...   \n",
              "4  De cargos secretos a segurança: veja erros e a...   \n",
              "\n",
              "                                                text                origin  \\\n",
              "0  As propostas de manter zerados impostos federa...        Jair Bolsonaro   \n",
              "1  Estatais dão lucro de mais de R$ 100 bilhões e...        Jair Bolsonaro   \n",
              "2  A água foi privatizada. A Cedae não acabou. Es...  Marcelo Freixo (PSB)   \n",
              "3  São quase 3 milhões de pessoas passando fome [...  Marcelo Freixo (PSB)   \n",
              "4  [Cláudio Castro] tem pouco mais de 20% de ótim...  Marcelo Freixo (PSB)   \n",
              "\n",
              "                                                 url  label publisher_name  \\\n",
              "0  https://lupa.uol.com.br/jornalismo/2022/09/06/...      0     Lupa - UOL   \n",
              "1  https://lupa.uol.com.br/jornalismo/2022/09/06/...      0     Lupa - UOL   \n",
              "2  https://lupa.uol.com.br/jornalismo/2022/09/01/...      0     Lupa - UOL   \n",
              "3  https://lupa.uol.com.br/jornalismo/2022/09/01/...      0     Lupa - UOL   \n",
              "4  https://lupa.uol.com.br/jornalismo/2022/09/01/...      0     Lupa - UOL   \n",
              "\n",
              "    publisher_site date  \n",
              "0  lupa.uol.com.br  NaN  \n",
              "1  lupa.uol.com.br  NaN  \n",
              "2  lupa.uol.com.br  NaN  \n",
              "3  lupa.uol.com.br  NaN  \n",
              "4  lupa.uol.com.br  NaN  "
            ],
            "text/html": [
              "\n",
              "  <div id=\"df-7160c6d9-c3dc-4281-8c61-f0a42d7436ca\">\n",
              "    <div class=\"colab-df-container\">\n",
              "      <div>\n",
              "<style scoped>\n",
              "    .dataframe tbody tr th:only-of-type {\n",
              "        vertical-align: middle;\n",
              "    }\n",
              "\n",
              "    .dataframe tbody tr th {\n",
              "        vertical-align: top;\n",
              "    }\n",
              "\n",
              "    .dataframe thead th {\n",
              "        text-align: right;\n",
              "    }\n",
              "</style>\n",
              "<table border=\"1\" class=\"dataframe\">\n",
              "  <thead>\n",
              "    <tr style=\"text-align: right;\">\n",
              "      <th></th>\n",
              "      <th>title</th>\n",
              "      <th>text</th>\n",
              "      <th>origin</th>\n",
              "      <th>url</th>\n",
              "      <th>label</th>\n",
              "      <th>publisher_name</th>\n",
              "      <th>publisher_site</th>\n",
              "      <th>date</th>\n",
              "    </tr>\n",
              "  </thead>\n",
              "  <tbody>\n",
              "    <tr>\n",
              "      <th>0</th>\n",
              "      <td>Jovem Pan: o que é falso e o que é verdadeiro ...</td>\n",
              "      <td>As propostas de manter zerados impostos federa...</td>\n",
              "      <td>Jair Bolsonaro</td>\n",
              "      <td>https://lupa.uol.com.br/jornalismo/2022/09/06/...</td>\n",
              "      <td>0</td>\n",
              "      <td>Lupa - UOL</td>\n",
              "      <td>lupa.uol.com.br</td>\n",
              "      <td>NaN</td>\n",
              "    </tr>\n",
              "    <tr>\n",
              "      <th>1</th>\n",
              "      <td>Jovem Pan: o que é falso e o que é verdadeiro ...</td>\n",
              "      <td>Estatais dão lucro de mais de R$ 100 bilhões e...</td>\n",
              "      <td>Jair Bolsonaro</td>\n",
              "      <td>https://lupa.uol.com.br/jornalismo/2022/09/06/...</td>\n",
              "      <td>0</td>\n",
              "      <td>Lupa - UOL</td>\n",
              "      <td>lupa.uol.com.br</td>\n",
              "      <td>NaN</td>\n",
              "    </tr>\n",
              "    <tr>\n",
              "      <th>2</th>\n",
              "      <td>De cargos secretos a segurança: veja erros e a...</td>\n",
              "      <td>A água foi privatizada. A Cedae não acabou. Es...</td>\n",
              "      <td>Marcelo Freixo (PSB)</td>\n",
              "      <td>https://lupa.uol.com.br/jornalismo/2022/09/01/...</td>\n",
              "      <td>0</td>\n",
              "      <td>Lupa - UOL</td>\n",
              "      <td>lupa.uol.com.br</td>\n",
              "      <td>NaN</td>\n",
              "    </tr>\n",
              "    <tr>\n",
              "      <th>3</th>\n",
              "      <td>De cargos secretos a segurança: veja erros e a...</td>\n",
              "      <td>São quase 3 milhões de pessoas passando fome [...</td>\n",
              "      <td>Marcelo Freixo (PSB)</td>\n",
              "      <td>https://lupa.uol.com.br/jornalismo/2022/09/01/...</td>\n",
              "      <td>0</td>\n",
              "      <td>Lupa - UOL</td>\n",
              "      <td>lupa.uol.com.br</td>\n",
              "      <td>NaN</td>\n",
              "    </tr>\n",
              "    <tr>\n",
              "      <th>4</th>\n",
              "      <td>De cargos secretos a segurança: veja erros e a...</td>\n",
              "      <td>[Cláudio Castro] tem pouco mais de 20% de ótim...</td>\n",
              "      <td>Marcelo Freixo (PSB)</td>\n",
              "      <td>https://lupa.uol.com.br/jornalismo/2022/09/01/...</td>\n",
              "      <td>0</td>\n",
              "      <td>Lupa - UOL</td>\n",
              "      <td>lupa.uol.com.br</td>\n",
              "      <td>NaN</td>\n",
              "    </tr>\n",
              "  </tbody>\n",
              "</table>\n",
              "</div>\n",
              "      <button class=\"colab-df-convert\" onclick=\"convertToInteractive('df-7160c6d9-c3dc-4281-8c61-f0a42d7436ca')\"\n",
              "              title=\"Convert this dataframe to an interactive table.\"\n",
              "              style=\"display:none;\">\n",
              "        \n",
              "  <svg xmlns=\"http://www.w3.org/2000/svg\" height=\"24px\"viewBox=\"0 0 24 24\"\n",
              "       width=\"24px\">\n",
              "    <path d=\"M0 0h24v24H0V0z\" fill=\"none\"/>\n",
              "    <path d=\"M18.56 5.44l.94 2.06.94-2.06 2.06-.94-2.06-.94-.94-2.06-.94 2.06-2.06.94zm-11 1L8.5 8.5l.94-2.06 2.06-.94-2.06-.94L8.5 2.5l-.94 2.06-2.06.94zm10 10l.94 2.06.94-2.06 2.06-.94-2.06-.94-.94-2.06-.94 2.06-2.06.94z\"/><path d=\"M17.41 7.96l-1.37-1.37c-.4-.4-.92-.59-1.43-.59-.52 0-1.04.2-1.43.59L10.3 9.45l-7.72 7.72c-.78.78-.78 2.05 0 2.83L4 21.41c.39.39.9.59 1.41.59.51 0 1.02-.2 1.41-.59l7.78-7.78 2.81-2.81c.8-.78.8-2.07 0-2.86zM5.41 20L4 18.59l7.72-7.72 1.47 1.35L5.41 20z\"/>\n",
              "  </svg>\n",
              "      </button>\n",
              "      \n",
              "  <style>\n",
              "    .colab-df-container {\n",
              "      display:flex;\n",
              "      flex-wrap:wrap;\n",
              "      gap: 12px;\n",
              "    }\n",
              "\n",
              "    .colab-df-convert {\n",
              "      background-color: #E8F0FE;\n",
              "      border: none;\n",
              "      border-radius: 50%;\n",
              "      cursor: pointer;\n",
              "      display: none;\n",
              "      fill: #1967D2;\n",
              "      height: 32px;\n",
              "      padding: 0 0 0 0;\n",
              "      width: 32px;\n",
              "    }\n",
              "\n",
              "    .colab-df-convert:hover {\n",
              "      background-color: #E2EBFA;\n",
              "      box-shadow: 0px 1px 2px rgba(60, 64, 67, 0.3), 0px 1px 3px 1px rgba(60, 64, 67, 0.15);\n",
              "      fill: #174EA6;\n",
              "    }\n",
              "\n",
              "    [theme=dark] .colab-df-convert {\n",
              "      background-color: #3B4455;\n",
              "      fill: #D2E3FC;\n",
              "    }\n",
              "\n",
              "    [theme=dark] .colab-df-convert:hover {\n",
              "      background-color: #434B5C;\n",
              "      box-shadow: 0px 1px 3px 1px rgba(0, 0, 0, 0.15);\n",
              "      filter: drop-shadow(0px 1px 2px rgba(0, 0, 0, 0.3));\n",
              "      fill: #FFFFFF;\n",
              "    }\n",
              "  </style>\n",
              "\n",
              "      <script>\n",
              "        const buttonEl =\n",
              "          document.querySelector('#df-7160c6d9-c3dc-4281-8c61-f0a42d7436ca button.colab-df-convert');\n",
              "        buttonEl.style.display =\n",
              "          google.colab.kernel.accessAllowed ? 'block' : 'none';\n",
              "\n",
              "        async function convertToInteractive(key) {\n",
              "          const element = document.querySelector('#df-7160c6d9-c3dc-4281-8c61-f0a42d7436ca');\n",
              "          const dataTable =\n",
              "            await google.colab.kernel.invokeFunction('convertToInteractive',\n",
              "                                                     [key], {});\n",
              "          if (!dataTable) return;\n",
              "\n",
              "          const docLinkHtml = 'Like what you see? Visit the ' +\n",
              "            '<a target=\"_blank\" href=https://colab.research.google.com/notebooks/data_table.ipynb>data table notebook</a>'\n",
              "            + ' to learn more about interactive tables.';\n",
              "          element.innerHTML = '';\n",
              "          dataTable['output_type'] = 'display_data';\n",
              "          await google.colab.output.renderOutput(dataTable, element);\n",
              "          const docLink = document.createElement('div');\n",
              "          docLink.innerHTML = docLinkHtml;\n",
              "          element.appendChild(docLink);\n",
              "        }\n",
              "      </script>\n",
              "    </div>\n",
              "  </div>\n",
              "  "
            ]
          },
          "metadata": {},
          "execution_count": 11
        }
      ]
    },
    {
      "cell_type": "code",
      "source": [
        "df = pd.read_csv('/content/drive/MyDrive/fakenews/fakes.csv',encoding='utf-8')"
      ],
      "metadata": {
        "id": "o8CDVqr3FKVh"
      },
      "execution_count": 12,
      "outputs": []
    },
    {
      "cell_type": "code",
      "source": [
        "df.isnull().sum()"
      ],
      "metadata": {
        "colab": {
          "base_uri": "https://localhost:8080/"
        },
        "id": "RX2ZU495Dic3",
        "outputId": "12b54b70-8ec0-45eb-b2ba-399b0a145754"
      },
      "execution_count": 13,
      "outputs": [
        {
          "output_type": "execute_result",
          "data": {
            "text/plain": [
              "title                0\n",
              "text                 0\n",
              "origin            4644\n",
              "url                  0\n",
              "label                0\n",
              "publisher_name     363\n",
              "publisher_site       0\n",
              "date              3036\n",
              "dtype: int64"
            ]
          },
          "metadata": {},
          "execution_count": 13
        }
      ]
    },
    {
      "cell_type": "code",
      "source": [
        "df.head()"
      ],
      "metadata": {
        "id": "Hm35VHqxFufP",
        "outputId": "01089174-f5a1-4a71-c29e-c231ecd4fc98",
        "colab": {
          "base_uri": "https://localhost:8080/",
          "height": 424
        }
      },
      "execution_count": 14,
      "outputs": [
        {
          "output_type": "execute_result",
          "data": {
            "text/plain": [
              "                                               title  \\\n",
              "0  Vídeo com vaias a Nando Reis teve áudio manipu...   \n",
              "1  Documentos confirmam uso de dinheiro vivo na c...   \n",
              "2  G1 não publicou notícia de que rainha Elizabet...   \n",
              "3  TSE não proibiu governo de tomar medidas para ...   \n",
              "4  É falso que órgão de saúde dos EUA passou a re...   \n",
              "\n",
              "                                                text              origin  \\\n",
              "0           “Nando Reis se F… Se F…. no Rock in Rio”              pessoa   \n",
              "1  “Não foi dinheiro vivo. Moeda corrente, quer d...     Cristina Graeml   \n",
              "2  “Em seus últimos momentos de vida, rainha Eliz...  Imagem no WhatsApp   \n",
              "3  “TSE MARCOU PARA PRÓXIMA SEMANA JULGAMENTO OND...              pessoa   \n",
              "4  De repente, a Ivermectina aparece no site do N...    Post no WhatsApp   \n",
              "\n",
              "                                                 url  label publisher_name  \\\n",
              "0  https://lupa.uol.com.br/jornalismo/2022/09/09/...      1     Lupa - UOL   \n",
              "1  https://lupa.uol.com.br/jornalismo/2022/09/09/...      1     Lupa - UOL   \n",
              "2  https://lupa.uol.com.br/jornalismo/2022/09/08/...      1     Lupa - UOL   \n",
              "3  https://lupa.uol.com.br/jornalismo/2022/09/08/...      1     Lupa - UOL   \n",
              "4  https://lupa.uol.com.br/jornalismo/2022/09/08/...      1     Lupa - UOL   \n",
              "\n",
              "    publisher_site                  date  \n",
              "0  lupa.uol.com.br                   NaN  \n",
              "1  lupa.uol.com.br  2022-09-06T00:00:00Z  \n",
              "2  lupa.uol.com.br                   NaN  \n",
              "3  lupa.uol.com.br                   NaN  \n",
              "4  lupa.uol.com.br  2022-09-08T00:00:00Z  "
            ],
            "text/html": [
              "\n",
              "  <div id=\"df-c79cde9b-4361-4348-a3c6-2347e5cb284a\">\n",
              "    <div class=\"colab-df-container\">\n",
              "      <div>\n",
              "<style scoped>\n",
              "    .dataframe tbody tr th:only-of-type {\n",
              "        vertical-align: middle;\n",
              "    }\n",
              "\n",
              "    .dataframe tbody tr th {\n",
              "        vertical-align: top;\n",
              "    }\n",
              "\n",
              "    .dataframe thead th {\n",
              "        text-align: right;\n",
              "    }\n",
              "</style>\n",
              "<table border=\"1\" class=\"dataframe\">\n",
              "  <thead>\n",
              "    <tr style=\"text-align: right;\">\n",
              "      <th></th>\n",
              "      <th>title</th>\n",
              "      <th>text</th>\n",
              "      <th>origin</th>\n",
              "      <th>url</th>\n",
              "      <th>label</th>\n",
              "      <th>publisher_name</th>\n",
              "      <th>publisher_site</th>\n",
              "      <th>date</th>\n",
              "    </tr>\n",
              "  </thead>\n",
              "  <tbody>\n",
              "    <tr>\n",
              "      <th>0</th>\n",
              "      <td>Vídeo com vaias a Nando Reis teve áudio manipu...</td>\n",
              "      <td>“Nando Reis se F… Se F…. no Rock in Rio”</td>\n",
              "      <td>pessoa</td>\n",
              "      <td>https://lupa.uol.com.br/jornalismo/2022/09/09/...</td>\n",
              "      <td>1</td>\n",
              "      <td>Lupa - UOL</td>\n",
              "      <td>lupa.uol.com.br</td>\n",
              "      <td>NaN</td>\n",
              "    </tr>\n",
              "    <tr>\n",
              "      <th>1</th>\n",
              "      <td>Documentos confirmam uso de dinheiro vivo na c...</td>\n",
              "      <td>“Não foi dinheiro vivo. Moeda corrente, quer d...</td>\n",
              "      <td>Cristina Graeml</td>\n",
              "      <td>https://lupa.uol.com.br/jornalismo/2022/09/09/...</td>\n",
              "      <td>1</td>\n",
              "      <td>Lupa - UOL</td>\n",
              "      <td>lupa.uol.com.br</td>\n",
              "      <td>2022-09-06T00:00:00Z</td>\n",
              "    </tr>\n",
              "    <tr>\n",
              "      <th>2</th>\n",
              "      <td>G1 não publicou notícia de que rainha Elizabet...</td>\n",
              "      <td>“Em seus últimos momentos de vida, rainha Eliz...</td>\n",
              "      <td>Imagem no WhatsApp</td>\n",
              "      <td>https://lupa.uol.com.br/jornalismo/2022/09/08/...</td>\n",
              "      <td>1</td>\n",
              "      <td>Lupa - UOL</td>\n",
              "      <td>lupa.uol.com.br</td>\n",
              "      <td>NaN</td>\n",
              "    </tr>\n",
              "    <tr>\n",
              "      <th>3</th>\n",
              "      <td>TSE não proibiu governo de tomar medidas para ...</td>\n",
              "      <td>“TSE MARCOU PARA PRÓXIMA SEMANA JULGAMENTO OND...</td>\n",
              "      <td>pessoa</td>\n",
              "      <td>https://lupa.uol.com.br/jornalismo/2022/09/08/...</td>\n",
              "      <td>1</td>\n",
              "      <td>Lupa - UOL</td>\n",
              "      <td>lupa.uol.com.br</td>\n",
              "      <td>NaN</td>\n",
              "    </tr>\n",
              "    <tr>\n",
              "      <th>4</th>\n",
              "      <td>É falso que órgão de saúde dos EUA passou a re...</td>\n",
              "      <td>De repente, a Ivermectina aparece no site do N...</td>\n",
              "      <td>Post no WhatsApp</td>\n",
              "      <td>https://lupa.uol.com.br/jornalismo/2022/09/08/...</td>\n",
              "      <td>1</td>\n",
              "      <td>Lupa - UOL</td>\n",
              "      <td>lupa.uol.com.br</td>\n",
              "      <td>2022-09-08T00:00:00Z</td>\n",
              "    </tr>\n",
              "  </tbody>\n",
              "</table>\n",
              "</div>\n",
              "      <button class=\"colab-df-convert\" onclick=\"convertToInteractive('df-c79cde9b-4361-4348-a3c6-2347e5cb284a')\"\n",
              "              title=\"Convert this dataframe to an interactive table.\"\n",
              "              style=\"display:none;\">\n",
              "        \n",
              "  <svg xmlns=\"http://www.w3.org/2000/svg\" height=\"24px\"viewBox=\"0 0 24 24\"\n",
              "       width=\"24px\">\n",
              "    <path d=\"M0 0h24v24H0V0z\" fill=\"none\"/>\n",
              "    <path d=\"M18.56 5.44l.94 2.06.94-2.06 2.06-.94-2.06-.94-.94-2.06-.94 2.06-2.06.94zm-11 1L8.5 8.5l.94-2.06 2.06-.94-2.06-.94L8.5 2.5l-.94 2.06-2.06.94zm10 10l.94 2.06.94-2.06 2.06-.94-2.06-.94-.94-2.06-.94 2.06-2.06.94z\"/><path d=\"M17.41 7.96l-1.37-1.37c-.4-.4-.92-.59-1.43-.59-.52 0-1.04.2-1.43.59L10.3 9.45l-7.72 7.72c-.78.78-.78 2.05 0 2.83L4 21.41c.39.39.9.59 1.41.59.51 0 1.02-.2 1.41-.59l7.78-7.78 2.81-2.81c.8-.78.8-2.07 0-2.86zM5.41 20L4 18.59l7.72-7.72 1.47 1.35L5.41 20z\"/>\n",
              "  </svg>\n",
              "      </button>\n",
              "      \n",
              "  <style>\n",
              "    .colab-df-container {\n",
              "      display:flex;\n",
              "      flex-wrap:wrap;\n",
              "      gap: 12px;\n",
              "    }\n",
              "\n",
              "    .colab-df-convert {\n",
              "      background-color: #E8F0FE;\n",
              "      border: none;\n",
              "      border-radius: 50%;\n",
              "      cursor: pointer;\n",
              "      display: none;\n",
              "      fill: #1967D2;\n",
              "      height: 32px;\n",
              "      padding: 0 0 0 0;\n",
              "      width: 32px;\n",
              "    }\n",
              "\n",
              "    .colab-df-convert:hover {\n",
              "      background-color: #E2EBFA;\n",
              "      box-shadow: 0px 1px 2px rgba(60, 64, 67, 0.3), 0px 1px 3px 1px rgba(60, 64, 67, 0.15);\n",
              "      fill: #174EA6;\n",
              "    }\n",
              "\n",
              "    [theme=dark] .colab-df-convert {\n",
              "      background-color: #3B4455;\n",
              "      fill: #D2E3FC;\n",
              "    }\n",
              "\n",
              "    [theme=dark] .colab-df-convert:hover {\n",
              "      background-color: #434B5C;\n",
              "      box-shadow: 0px 1px 3px 1px rgba(0, 0, 0, 0.15);\n",
              "      filter: drop-shadow(0px 1px 2px rgba(0, 0, 0, 0.3));\n",
              "      fill: #FFFFFF;\n",
              "    }\n",
              "  </style>\n",
              "\n",
              "      <script>\n",
              "        const buttonEl =\n",
              "          document.querySelector('#df-c79cde9b-4361-4348-a3c6-2347e5cb284a button.colab-df-convert');\n",
              "        buttonEl.style.display =\n",
              "          google.colab.kernel.accessAllowed ? 'block' : 'none';\n",
              "\n",
              "        async function convertToInteractive(key) {\n",
              "          const element = document.querySelector('#df-c79cde9b-4361-4348-a3c6-2347e5cb284a');\n",
              "          const dataTable =\n",
              "            await google.colab.kernel.invokeFunction('convertToInteractive',\n",
              "                                                     [key], {});\n",
              "          if (!dataTable) return;\n",
              "\n",
              "          const docLinkHtml = 'Like what you see? Visit the ' +\n",
              "            '<a target=\"_blank\" href=https://colab.research.google.com/notebooks/data_table.ipynb>data table notebook</a>'\n",
              "            + ' to learn more about interactive tables.';\n",
              "          element.innerHTML = '';\n",
              "          dataTable['output_type'] = 'display_data';\n",
              "          await google.colab.output.renderOutput(dataTable, element);\n",
              "          const docLink = document.createElement('div');\n",
              "          docLink.innerHTML = docLinkHtml;\n",
              "          element.appendChild(docLink);\n",
              "        }\n",
              "      </script>\n",
              "    </div>\n",
              "  </div>\n",
              "  "
            ]
          },
          "metadata": {},
          "execution_count": 14
        }
      ]
    },
    {
      "cell_type": "code",
      "source": [
        "df.isnull().sum()"
      ],
      "metadata": {
        "colab": {
          "base_uri": "https://localhost:8080/"
        },
        "id": "VoQX59wRFcFt",
        "outputId": "8070222b-b4d3-4f96-cf25-bb6c640e4b9b"
      },
      "execution_count": 15,
      "outputs": [
        {
          "output_type": "execute_result",
          "data": {
            "text/plain": [
              "title                0\n",
              "text                 0\n",
              "origin            4644\n",
              "url                  0\n",
              "label                0\n",
              "publisher_name     363\n",
              "publisher_site       0\n",
              "date              3036\n",
              "dtype: int64"
            ]
          },
          "metadata": {},
          "execution_count": 15
        }
      ]
    },
    {
      "cell_type": "code",
      "source": [],
      "metadata": {
        "id": "V03WhjCPFd6m"
      },
      "execution_count": 14,
      "outputs": []
    }
  ]
}