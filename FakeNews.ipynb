{
  "nbformat": 4,
  "nbformat_minor": 0,
  "metadata": {
    "colab": {
      "provenance": [],
      "mount_file_id": "1lmzEO3GNL-TK8lr5_ozvJgCUnYwSlEXC",
      "authorship_tag": "ABX9TyPo+1u2Vo8/BU7Yf/oFJx2J",
      "include_colab_link": true
    },
    "kernelspec": {
      "name": "python3",
      "display_name": "Python 3"
    },
    "language_info": {
      "name": "python"
    }
  },
  "cells": [
    {
      "cell_type": "markdown",
      "metadata": {
        "id": "view-in-github",
        "colab_type": "text"
      },
      "source": [
        "<a href=\"https://colab.research.google.com/github/jacksontenorio8/FakeNews/blob/main/FakeNews.ipynb\" target=\"_parent\"><img src=\"https://colab.research.google.com/assets/colab-badge.svg\" alt=\"Open In Colab\"/></a>"
      ]
    },
    {
      "cell_type": "code",
      "execution_count": 45,
      "metadata": {
        "id": "v7NLUONJ_fiA"
      },
      "outputs": [],
      "source": [
        "import pandas as pd\n",
        "import numpy as np\n",
        "import re\n",
        "import nltk\n",
        "from nltk.corpus import stopwords\n",
        "from nltk.stem.porter import PorterStemmer\n",
        "from sklearn.feature_extraction.text import TfidfVectorizer\n",
        "from sklearn.model_selection import train_test_split\n",
        "from sklearn.linear_model import LogisticRegression\n",
        "from sklearn.metrics import accuracy_score "
      ]
    },
    {
      "cell_type": "code",
      "source": [
        "nltk.download('stopwords')"
      ],
      "metadata": {
        "colab": {
          "base_uri": "https://localhost:8080/"
        },
        "id": "MxSwicO39fR1",
        "outputId": "a21b3f99-0bcc-4317-c352-27a97d541583"
      },
      "execution_count": 46,
      "outputs": [
        {
          "output_type": "stream",
          "name": "stderr",
          "text": [
            "[nltk_data] Downloading package stopwords to /root/nltk_data...\n",
            "[nltk_data]   Package stopwords is already up-to-date!\n"
          ]
        },
        {
          "output_type": "execute_result",
          "data": {
            "text/plain": [
              "True"
            ]
          },
          "metadata": {},
          "execution_count": 46
        }
      ]
    },
    {
      "cell_type": "code",
      "source": [
        "print(stopwords.words('portuguese'))"
      ],
      "metadata": {
        "colab": {
          "base_uri": "https://localhost:8080/"
        },
        "id": "hx06zTXe-TZ8",
        "outputId": "19133988-0d5c-476a-bdd8-e93e014f8de5"
      },
      "execution_count": 47,
      "outputs": [
        {
          "output_type": "stream",
          "name": "stdout",
          "text": [
            "['a', 'à', 'ao', 'aos', 'aquela', 'aquelas', 'aquele', 'aqueles', 'aquilo', 'as', 'às', 'até', 'com', 'como', 'da', 'das', 'de', 'dela', 'delas', 'dele', 'deles', 'depois', 'do', 'dos', 'e', 'é', 'ela', 'elas', 'ele', 'eles', 'em', 'entre', 'era', 'eram', 'éramos', 'essa', 'essas', 'esse', 'esses', 'esta', 'está', 'estamos', 'estão', 'estar', 'estas', 'estava', 'estavam', 'estávamos', 'este', 'esteja', 'estejam', 'estejamos', 'estes', 'esteve', 'estive', 'estivemos', 'estiver', 'estivera', 'estiveram', 'estivéramos', 'estiverem', 'estivermos', 'estivesse', 'estivessem', 'estivéssemos', 'estou', 'eu', 'foi', 'fomos', 'for', 'fora', 'foram', 'fôramos', 'forem', 'formos', 'fosse', 'fossem', 'fôssemos', 'fui', 'há', 'haja', 'hajam', 'hajamos', 'hão', 'havemos', 'haver', 'hei', 'houve', 'houvemos', 'houver', 'houvera', 'houverá', 'houveram', 'houvéramos', 'houverão', 'houverei', 'houverem', 'houveremos', 'houveria', 'houveriam', 'houveríamos', 'houvermos', 'houvesse', 'houvessem', 'houvéssemos', 'isso', 'isto', 'já', 'lhe', 'lhes', 'mais', 'mas', 'me', 'mesmo', 'meu', 'meus', 'minha', 'minhas', 'muito', 'na', 'não', 'nas', 'nem', 'no', 'nos', 'nós', 'nossa', 'nossas', 'nosso', 'nossos', 'num', 'numa', 'o', 'os', 'ou', 'para', 'pela', 'pelas', 'pelo', 'pelos', 'por', 'qual', 'quando', 'que', 'quem', 'são', 'se', 'seja', 'sejam', 'sejamos', 'sem', 'ser', 'será', 'serão', 'serei', 'seremos', 'seria', 'seriam', 'seríamos', 'seu', 'seus', 'só', 'somos', 'sou', 'sua', 'suas', 'também', 'te', 'tem', 'tém', 'temos', 'tenha', 'tenham', 'tenhamos', 'tenho', 'terá', 'terão', 'terei', 'teremos', 'teria', 'teriam', 'teríamos', 'teu', 'teus', 'teve', 'tinha', 'tinham', 'tínhamos', 'tive', 'tivemos', 'tiver', 'tivera', 'tiveram', 'tivéramos', 'tiverem', 'tivermos', 'tivesse', 'tivessem', 'tivéssemos', 'tu', 'tua', 'tuas', 'um', 'uma', 'você', 'vocês', 'vos']\n"
          ]
        }
      ]
    },
    {
      "cell_type": "code",
      "source": [
        "df = pd.read_csv('/content/drive/MyDrive/fakenews/true.csv', encoding='utf-8')"
      ],
      "metadata": {
        "id": "8GufIhFJC7s2"
      },
      "execution_count": 48,
      "outputs": []
    },
    {
      "cell_type": "markdown",
      "source": [
        "# Nova secção"
      ],
      "metadata": {
        "id": "Mb83u2ULF0bn"
      }
    },
    {
      "cell_type": "code",
      "source": [
        "df.head()"
      ],
      "metadata": {
        "colab": {
          "base_uri": "https://localhost:8080/",
          "height": 563
        },
        "id": "nsEuoIo9Do8w",
        "outputId": "9324b3d2-8d8f-4664-a375-2f0d2b38efef"
      },
      "execution_count": 49,
      "outputs": [
        {
          "output_type": "execute_result",
          "data": {
            "text/plain": [
              "                                                                        title  \\\n",
              "0    Jovem Pan: o que é falso e o que é verdadeiro na entrevista de Bolsonaro   \n",
              "1    Jovem Pan: o que é falso e o que é verdadeiro na entrevista de Bolsonaro   \n",
              "2  De cargos secretos a segurança: veja erros e acertos dos candidatos do Rio   \n",
              "3  De cargos secretos a segurança: veja erros e acertos dos candidatos do Rio   \n",
              "4  De cargos secretos a segurança: veja erros e acertos dos candidatos do Rio   \n",
              "\n",
              "                                                                                                                                                    text  \\\n",
              "0                                       As propostas de manter zerados impostos federais da gasolina, álcool, diesel e gás já estão na peça orçamentária   \n",
              "1                                                                            Estatais dão lucro de mais de R$ 100 bilhões em média nos últimos três anos   \n",
              "2  A água foi privatizada. A Cedae não acabou. Essas empresas compram a água da Cedae. (...) Metade dos municípios [do estado são cobertos pelos serv...   \n",
              "3                                                                                       São quase 3 milhões de pessoas passando fome [no Rio de Janeiro]   \n",
              "4                                                                                                  [Cláudio Castro] tem pouco mais de 20% de ótimo e bom   \n",
              "\n",
              "                 origin  \\\n",
              "0        Jair Bolsonaro   \n",
              "1        Jair Bolsonaro   \n",
              "2  Marcelo Freixo (PSB)   \n",
              "3  Marcelo Freixo (PSB)   \n",
              "4  Marcelo Freixo (PSB)   \n",
              "\n",
              "                                                                                                                       url  \\\n",
              "0                                             https://lupa.uol.com.br/jornalismo/2022/09/06/jovem-pan-entrevista-bolsonaro   \n",
              "1                                             https://lupa.uol.com.br/jornalismo/2022/09/06/jovem-pan-entrevista-bolsonaro   \n",
              "2  https://lupa.uol.com.br/jornalismo/2022/09/01/de-cargos-secretos-a-seguranca-veja-erros-e-acertos-dos-candidatos-do-rio   \n",
              "3  https://lupa.uol.com.br/jornalismo/2022/09/01/de-cargos-secretos-a-seguranca-veja-erros-e-acertos-dos-candidatos-do-rio   \n",
              "4  https://lupa.uol.com.br/jornalismo/2022/09/01/de-cargos-secretos-a-seguranca-veja-erros-e-acertos-dos-candidatos-do-rio   \n",
              "\n",
              "   label publisher_name   publisher_site date  \n",
              "0      0     Lupa - UOL  lupa.uol.com.br  NaN  \n",
              "1      0     Lupa - UOL  lupa.uol.com.br  NaN  \n",
              "2      0     Lupa - UOL  lupa.uol.com.br  NaN  \n",
              "3      0     Lupa - UOL  lupa.uol.com.br  NaN  \n",
              "4      0     Lupa - UOL  lupa.uol.com.br  NaN  "
            ],
            "text/html": [
              "\n",
              "  <div id=\"df-fccfa83d-a506-4061-bdc3-0f1cd62f3a59\">\n",
              "    <div class=\"colab-df-container\">\n",
              "      <div>\n",
              "<style scoped>\n",
              "    .dataframe tbody tr th:only-of-type {\n",
              "        vertical-align: middle;\n",
              "    }\n",
              "\n",
              "    .dataframe tbody tr th {\n",
              "        vertical-align: top;\n",
              "    }\n",
              "\n",
              "    .dataframe thead th {\n",
              "        text-align: right;\n",
              "    }\n",
              "</style>\n",
              "<table border=\"1\" class=\"dataframe\">\n",
              "  <thead>\n",
              "    <tr style=\"text-align: right;\">\n",
              "      <th></th>\n",
              "      <th>title</th>\n",
              "      <th>text</th>\n",
              "      <th>origin</th>\n",
              "      <th>url</th>\n",
              "      <th>label</th>\n",
              "      <th>publisher_name</th>\n",
              "      <th>publisher_site</th>\n",
              "      <th>date</th>\n",
              "    </tr>\n",
              "  </thead>\n",
              "  <tbody>\n",
              "    <tr>\n",
              "      <th>0</th>\n",
              "      <td>Jovem Pan: o que é falso e o que é verdadeiro na entrevista de Bolsonaro</td>\n",
              "      <td>As propostas de manter zerados impostos federais da gasolina, álcool, diesel e gás já estão na peça orçamentária</td>\n",
              "      <td>Jair Bolsonaro</td>\n",
              "      <td>https://lupa.uol.com.br/jornalismo/2022/09/06/jovem-pan-entrevista-bolsonaro</td>\n",
              "      <td>0</td>\n",
              "      <td>Lupa - UOL</td>\n",
              "      <td>lupa.uol.com.br</td>\n",
              "      <td>NaN</td>\n",
              "    </tr>\n",
              "    <tr>\n",
              "      <th>1</th>\n",
              "      <td>Jovem Pan: o que é falso e o que é verdadeiro na entrevista de Bolsonaro</td>\n",
              "      <td>Estatais dão lucro de mais de R$ 100 bilhões em média nos últimos três anos</td>\n",
              "      <td>Jair Bolsonaro</td>\n",
              "      <td>https://lupa.uol.com.br/jornalismo/2022/09/06/jovem-pan-entrevista-bolsonaro</td>\n",
              "      <td>0</td>\n",
              "      <td>Lupa - UOL</td>\n",
              "      <td>lupa.uol.com.br</td>\n",
              "      <td>NaN</td>\n",
              "    </tr>\n",
              "    <tr>\n",
              "      <th>2</th>\n",
              "      <td>De cargos secretos a segurança: veja erros e acertos dos candidatos do Rio</td>\n",
              "      <td>A água foi privatizada. A Cedae não acabou. Essas empresas compram a água da Cedae. (...) Metade dos municípios [do estado são cobertos pelos serv...</td>\n",
              "      <td>Marcelo Freixo (PSB)</td>\n",
              "      <td>https://lupa.uol.com.br/jornalismo/2022/09/01/de-cargos-secretos-a-seguranca-veja-erros-e-acertos-dos-candidatos-do-rio</td>\n",
              "      <td>0</td>\n",
              "      <td>Lupa - UOL</td>\n",
              "      <td>lupa.uol.com.br</td>\n",
              "      <td>NaN</td>\n",
              "    </tr>\n",
              "    <tr>\n",
              "      <th>3</th>\n",
              "      <td>De cargos secretos a segurança: veja erros e acertos dos candidatos do Rio</td>\n",
              "      <td>São quase 3 milhões de pessoas passando fome [no Rio de Janeiro]</td>\n",
              "      <td>Marcelo Freixo (PSB)</td>\n",
              "      <td>https://lupa.uol.com.br/jornalismo/2022/09/01/de-cargos-secretos-a-seguranca-veja-erros-e-acertos-dos-candidatos-do-rio</td>\n",
              "      <td>0</td>\n",
              "      <td>Lupa - UOL</td>\n",
              "      <td>lupa.uol.com.br</td>\n",
              "      <td>NaN</td>\n",
              "    </tr>\n",
              "    <tr>\n",
              "      <th>4</th>\n",
              "      <td>De cargos secretos a segurança: veja erros e acertos dos candidatos do Rio</td>\n",
              "      <td>[Cláudio Castro] tem pouco mais de 20% de ótimo e bom</td>\n",
              "      <td>Marcelo Freixo (PSB)</td>\n",
              "      <td>https://lupa.uol.com.br/jornalismo/2022/09/01/de-cargos-secretos-a-seguranca-veja-erros-e-acertos-dos-candidatos-do-rio</td>\n",
              "      <td>0</td>\n",
              "      <td>Lupa - UOL</td>\n",
              "      <td>lupa.uol.com.br</td>\n",
              "      <td>NaN</td>\n",
              "    </tr>\n",
              "  </tbody>\n",
              "</table>\n",
              "</div>\n",
              "      <button class=\"colab-df-convert\" onclick=\"convertToInteractive('df-fccfa83d-a506-4061-bdc3-0f1cd62f3a59')\"\n",
              "              title=\"Convert this dataframe to an interactive table.\"\n",
              "              style=\"display:none;\">\n",
              "        \n",
              "  <svg xmlns=\"http://www.w3.org/2000/svg\" height=\"24px\"viewBox=\"0 0 24 24\"\n",
              "       width=\"24px\">\n",
              "    <path d=\"M0 0h24v24H0V0z\" fill=\"none\"/>\n",
              "    <path d=\"M18.56 5.44l.94 2.06.94-2.06 2.06-.94-2.06-.94-.94-2.06-.94 2.06-2.06.94zm-11 1L8.5 8.5l.94-2.06 2.06-.94-2.06-.94L8.5 2.5l-.94 2.06-2.06.94zm10 10l.94 2.06.94-2.06 2.06-.94-2.06-.94-.94-2.06-.94 2.06-2.06.94z\"/><path d=\"M17.41 7.96l-1.37-1.37c-.4-.4-.92-.59-1.43-.59-.52 0-1.04.2-1.43.59L10.3 9.45l-7.72 7.72c-.78.78-.78 2.05 0 2.83L4 21.41c.39.39.9.59 1.41.59.51 0 1.02-.2 1.41-.59l7.78-7.78 2.81-2.81c.8-.78.8-2.07 0-2.86zM5.41 20L4 18.59l7.72-7.72 1.47 1.35L5.41 20z\"/>\n",
              "  </svg>\n",
              "      </button>\n",
              "      \n",
              "  <style>\n",
              "    .colab-df-container {\n",
              "      display:flex;\n",
              "      flex-wrap:wrap;\n",
              "      gap: 12px;\n",
              "    }\n",
              "\n",
              "    .colab-df-convert {\n",
              "      background-color: #E8F0FE;\n",
              "      border: none;\n",
              "      border-radius: 50%;\n",
              "      cursor: pointer;\n",
              "      display: none;\n",
              "      fill: #1967D2;\n",
              "      height: 32px;\n",
              "      padding: 0 0 0 0;\n",
              "      width: 32px;\n",
              "    }\n",
              "\n",
              "    .colab-df-convert:hover {\n",
              "      background-color: #E2EBFA;\n",
              "      box-shadow: 0px 1px 2px rgba(60, 64, 67, 0.3), 0px 1px 3px 1px rgba(60, 64, 67, 0.15);\n",
              "      fill: #174EA6;\n",
              "    }\n",
              "\n",
              "    [theme=dark] .colab-df-convert {\n",
              "      background-color: #3B4455;\n",
              "      fill: #D2E3FC;\n",
              "    }\n",
              "\n",
              "    [theme=dark] .colab-df-convert:hover {\n",
              "      background-color: #434B5C;\n",
              "      box-shadow: 0px 1px 3px 1px rgba(0, 0, 0, 0.15);\n",
              "      filter: drop-shadow(0px 1px 2px rgba(0, 0, 0, 0.3));\n",
              "      fill: #FFFFFF;\n",
              "    }\n",
              "  </style>\n",
              "\n",
              "      <script>\n",
              "        const buttonEl =\n",
              "          document.querySelector('#df-fccfa83d-a506-4061-bdc3-0f1cd62f3a59 button.colab-df-convert');\n",
              "        buttonEl.style.display =\n",
              "          google.colab.kernel.accessAllowed ? 'block' : 'none';\n",
              "\n",
              "        async function convertToInteractive(key) {\n",
              "          const element = document.querySelector('#df-fccfa83d-a506-4061-bdc3-0f1cd62f3a59');\n",
              "          const dataTable =\n",
              "            await google.colab.kernel.invokeFunction('convertToInteractive',\n",
              "                                                     [key], {});\n",
              "          if (!dataTable) return;\n",
              "\n",
              "          const docLinkHtml = 'Like what you see? Visit the ' +\n",
              "            '<a target=\"_blank\" href=https://colab.research.google.com/notebooks/data_table.ipynb>data table notebook</a>'\n",
              "            + ' to learn more about interactive tables.';\n",
              "          element.innerHTML = '';\n",
              "          dataTable['output_type'] = 'display_data';\n",
              "          await google.colab.output.renderOutput(dataTable, element);\n",
              "          const docLink = document.createElement('div');\n",
              "          docLink.innerHTML = docLinkHtml;\n",
              "          element.appendChild(docLink);\n",
              "        }\n",
              "      </script>\n",
              "    </div>\n",
              "  </div>\n",
              "  "
            ]
          },
          "metadata": {},
          "execution_count": 49
        }
      ]
    },
    {
      "cell_type": "code",
      "source": [
        "df = pd.read_csv('/content/drive/MyDrive/fakenews/fakes.csv',encoding='utf-8')"
      ],
      "metadata": {
        "id": "o8CDVqr3FKVh"
      },
      "execution_count": 50,
      "outputs": []
    },
    {
      "cell_type": "code",
      "source": [
        "df.isnull().sum()"
      ],
      "metadata": {
        "colab": {
          "base_uri": "https://localhost:8080/"
        },
        "id": "RX2ZU495Dic3",
        "outputId": "0747088d-9a00-4e7d-bc08-87cfedfabc2e"
      },
      "execution_count": 51,
      "outputs": [
        {
          "output_type": "execute_result",
          "data": {
            "text/plain": [
              "title                0\n",
              "text                 0\n",
              "origin            4644\n",
              "url                  0\n",
              "label                0\n",
              "publisher_name     363\n",
              "publisher_site       0\n",
              "date              3036\n",
              "dtype: int64"
            ]
          },
          "metadata": {},
          "execution_count": 51
        }
      ]
    },
    {
      "cell_type": "code",
      "source": [
        "df.dropna(inplace=True)"
      ],
      "metadata": {
        "id": "eBDUSk_KI7fw"
      },
      "execution_count": 52,
      "outputs": []
    },
    {
      "cell_type": "code",
      "source": [
        "df.isnull().sum()"
      ],
      "metadata": {
        "colab": {
          "base_uri": "https://localhost:8080/"
        },
        "id": "GmEkNYmGJspg",
        "outputId": "9c4b70d1-f6f0-4e01-bff5-bd81da7ebe6b"
      },
      "execution_count": 53,
      "outputs": [
        {
          "output_type": "execute_result",
          "data": {
            "text/plain": [
              "title             0\n",
              "text              0\n",
              "origin            0\n",
              "url               0\n",
              "label             0\n",
              "publisher_name    0\n",
              "publisher_site    0\n",
              "date              0\n",
              "dtype: int64"
            ]
          },
          "metadata": {},
          "execution_count": 53
        }
      ]
    },
    {
      "cell_type": "code",
      "source": [
        "df['all'] = df['title'] + ' ' + df['origin'] + ' ' + df['text'] "
      ],
      "metadata": {
        "id": "TjQDg0xDK_73"
      },
      "execution_count": 54,
      "outputs": []
    },
    {
      "cell_type": "code",
      "source": [
        "pd.options.display.max_colwidth = 150"
      ],
      "metadata": {
        "id": "8nll9rSLNuRy"
      },
      "execution_count": 55,
      "outputs": []
    },
    {
      "cell_type": "code",
      "source": [
        "print(df['all'])"
      ],
      "metadata": {
        "colab": {
          "base_uri": "https://localhost:8080/"
        },
        "id": "B_Pc3nYwO-gj",
        "outputId": "c7361654-bc7b-444a-b348-8244b9b2e14b"
      },
      "execution_count": 56,
      "outputs": [
        {
          "output_type": "stream",
          "name": "stdout",
          "text": [
            "1        Documentos confirmam uso de dinheiro vivo na compra de 51 imóveis da família Bolsonaro Cristina Graeml “Não foi dinheiro vivo. Moeda corrente, que...\n",
            "4        É falso que órgão de saúde dos EUA passou a recomendar ivermectina para Covid-19 Post no WhatsApp De repente, a Ivermectina aparece no site do NIH...\n",
            "5        É falso que arma usada em atentado contra Cristina Kirchner era uma pistola d'água Publicação no Facebook Mais uma palhaçada da Cristina Kirchner ...\n",
            "6        Foto antiga do Burj Khalifa com as cores do Brasil viralizou nas redes Publicação no Facebook O edifício mais alto do mundo, o Burj Khalifa, em Du...\n",
            "11       É antigo vídeo em que paraquedistas comentam sobre a expectativa para os atos de 7 de setembro Publicação no WhatsApp Clima ontem a noite em Brasí...\n",
            "                                                                                 ...                                                                          \n",
            "20473    Paulo Guedes gastou mesmo R$ 120 mil com Viagra? Rumor no Twitter O ministro da Economia Paulo Guedes gastou 120 mil reais com remédio para disfun...\n",
            "20474    A Força Aérea Brasileira produziu 100 mil metros cúbicos de oxigênio e doou para Manaus? Grupos de WhatsApp A Força Aérea Brasileira produziu 100 ...\n",
            "20475    Cuba adotou com sucesso a cloroquina no tratamento de pacientes da COVID? Afirmações de ex-ministro em CPI Cuba adotou com sucesso a cloroquina no...\n",
            "20476    A Cinderela usava sapatos de pele de esquilos na história original? Publicações nas redes sociais A Cinderela usava sapatos de pele de esquilos na...\n",
            "20477    É verdade que 2% da arrecadação dos veículos do Mercosul são revertidos para a reconstrução de Cuba (Renac)? Grupos de WhatsApp 2% da arrecadação ...\n",
            "Name: all, Length: 12994, dtype: object\n"
          ]
        }
      ]
    },
    {
      "cell_type": "code",
      "source": [
        "porter_stemmer = PorterStemmer()\n",
        "\n",
        "\n",
        "def stemming_tokenizer(df):\n",
        "\n",
        "    words= re.sub(r\"[^A-Za-z]\", \" \",df).lower().split()\n",
        "    words= [porter_stemmer.stem(word) for word in words if not words in stopwords('portuguese')]\n",
        "    words= ' '.join(words)\n",
        "    return words"
      ],
      "metadata": {
        "id": "A_jhWXjr-sIq"
      },
      "execution_count": 57,
      "outputs": []
    },
    {
      "cell_type": "code",
      "source": [
        "df.head()"
      ],
      "metadata": {
        "id": "Hm35VHqxFufP",
        "outputId": "a4b772d6-a298-4922-f6ae-40316aef441c",
        "colab": {
          "base_uri": "https://localhost:8080/",
          "height": 1000
        }
      },
      "execution_count": 58,
      "outputs": [
        {
          "output_type": "execute_result",
          "data": {
            "text/plain": [
              "                                                                                             title  \\\n",
              "1           Documentos confirmam uso de dinheiro vivo na compra de 51 imóveis da família Bolsonaro   \n",
              "4                 É falso que órgão de saúde dos EUA passou a recomendar ivermectina para Covid-19   \n",
              "5               É falso que arma usada em atentado contra Cristina Kirchner era uma pistola d'água   \n",
              "6                           Foto antiga do Burj Khalifa com as cores do Brasil viralizou nas redes   \n",
              "11  É antigo vídeo em que paraquedistas comentam sobre a expectativa para os atos de 7 de setembro   \n",
              "\n",
              "                                                                                                                                                     text  \\\n",
              "1   “Não foi dinheiro vivo. Moeda corrente, quer dizer o dinheiro do país. Então, se um imóvel foi comprado em moeda corrente, significa que ele foi c...   \n",
              "4   De repente, a Ivermectina aparece no site do NIH para tratar o Covid. Depois de anos de negação, bloqueio, interferência, difamação, arruinando co...   \n",
              "5   Mais uma palhaçada da Cristina Kirchner Comunista, tudo foi uma armação não tinha bala na pistola 🔫 tinha água e a mídia fazendo o trabalho sujo d...   \n",
              "6          O edifício mais alto do mundo, o Burj Khalifa, em Dubai, está iluminado com as cores da bandeira brasileira por conta do Dia da Independência”   \n",
              "11                                                                                            Clima ontem a noite em Brasília, aguardando o 7 de setembro   \n",
              "\n",
              "                    origin  \\\n",
              "1          Cristina Graeml   \n",
              "4         Post no WhatsApp   \n",
              "5   Publicação no Facebook   \n",
              "6   Publicação no Facebook   \n",
              "11  Publicação no WhatsApp   \n",
              "\n",
              "                                                                                   url  \\\n",
              "1                      https://lupa.uol.com.br/jornalismo/2022/09/09/dinheiro-vivo-uol   \n",
              "4   https://lupa.uol.com.br/jornalismo/2022/09/08/orgao-saude-eua-ivermectina-covid-19   \n",
              "5         https://lupa.uol.com.br/jornalismo/2022/09/07/cristina-kirchner-pistola-agua   \n",
              "6                https://lupa.uol.com.br/jornalismo/2022/09/07/burj-khalifa-7-setembro   \n",
              "11         https://lupa.uol.com.br/jornalismo/2022/09/07/paraquedistas-atos-7-setembro   \n",
              "\n",
              "    label publisher_name   publisher_site                  date  \\\n",
              "1       1     Lupa - UOL  lupa.uol.com.br  2022-09-06T00:00:00Z   \n",
              "4       1     Lupa - UOL  lupa.uol.com.br  2022-09-08T00:00:00Z   \n",
              "5       1     Lupa - UOL  lupa.uol.com.br  2022-09-02T00:00:00Z   \n",
              "6       1     Lupa - UOL  lupa.uol.com.br  2022-09-06T00:00:00Z   \n",
              "11      1     Lupa - UOL  lupa.uol.com.br  2022-09-07T00:00:00Z   \n",
              "\n",
              "                                                                                                                                                      all  \n",
              "1   Documentos confirmam uso de dinheiro vivo na compra de 51 imóveis da família Bolsonaro Cristina Graeml “Não foi dinheiro vivo. Moeda corrente, que...  \n",
              "4   É falso que órgão de saúde dos EUA passou a recomendar ivermectina para Covid-19 Post no WhatsApp De repente, a Ivermectina aparece no site do NIH...  \n",
              "5   É falso que arma usada em atentado contra Cristina Kirchner era uma pistola d'água Publicação no Facebook Mais uma palhaçada da Cristina Kirchner ...  \n",
              "6   Foto antiga do Burj Khalifa com as cores do Brasil viralizou nas redes Publicação no Facebook O edifício mais alto do mundo, o Burj Khalifa, em Du...  \n",
              "11  É antigo vídeo em que paraquedistas comentam sobre a expectativa para os atos de 7 de setembro Publicação no WhatsApp Clima ontem a noite em Brasí...  "
            ],
            "text/html": [
              "\n",
              "  <div id=\"df-90ea34ae-3139-4b07-850e-0d6e21ed5e7b\">\n",
              "    <div class=\"colab-df-container\">\n",
              "      <div>\n",
              "<style scoped>\n",
              "    .dataframe tbody tr th:only-of-type {\n",
              "        vertical-align: middle;\n",
              "    }\n",
              "\n",
              "    .dataframe tbody tr th {\n",
              "        vertical-align: top;\n",
              "    }\n",
              "\n",
              "    .dataframe thead th {\n",
              "        text-align: right;\n",
              "    }\n",
              "</style>\n",
              "<table border=\"1\" class=\"dataframe\">\n",
              "  <thead>\n",
              "    <tr style=\"text-align: right;\">\n",
              "      <th></th>\n",
              "      <th>title</th>\n",
              "      <th>text</th>\n",
              "      <th>origin</th>\n",
              "      <th>url</th>\n",
              "      <th>label</th>\n",
              "      <th>publisher_name</th>\n",
              "      <th>publisher_site</th>\n",
              "      <th>date</th>\n",
              "      <th>all</th>\n",
              "    </tr>\n",
              "  </thead>\n",
              "  <tbody>\n",
              "    <tr>\n",
              "      <th>1</th>\n",
              "      <td>Documentos confirmam uso de dinheiro vivo na compra de 51 imóveis da família Bolsonaro</td>\n",
              "      <td>“Não foi dinheiro vivo. Moeda corrente, quer dizer o dinheiro do país. Então, se um imóvel foi comprado em moeda corrente, significa que ele foi c...</td>\n",
              "      <td>Cristina Graeml</td>\n",
              "      <td>https://lupa.uol.com.br/jornalismo/2022/09/09/dinheiro-vivo-uol</td>\n",
              "      <td>1</td>\n",
              "      <td>Lupa - UOL</td>\n",
              "      <td>lupa.uol.com.br</td>\n",
              "      <td>2022-09-06T00:00:00Z</td>\n",
              "      <td>Documentos confirmam uso de dinheiro vivo na compra de 51 imóveis da família Bolsonaro Cristina Graeml “Não foi dinheiro vivo. Moeda corrente, que...</td>\n",
              "    </tr>\n",
              "    <tr>\n",
              "      <th>4</th>\n",
              "      <td>É falso que órgão de saúde dos EUA passou a recomendar ivermectina para Covid-19</td>\n",
              "      <td>De repente, a Ivermectina aparece no site do NIH para tratar o Covid. Depois de anos de negação, bloqueio, interferência, difamação, arruinando co...</td>\n",
              "      <td>Post no WhatsApp</td>\n",
              "      <td>https://lupa.uol.com.br/jornalismo/2022/09/08/orgao-saude-eua-ivermectina-covid-19</td>\n",
              "      <td>1</td>\n",
              "      <td>Lupa - UOL</td>\n",
              "      <td>lupa.uol.com.br</td>\n",
              "      <td>2022-09-08T00:00:00Z</td>\n",
              "      <td>É falso que órgão de saúde dos EUA passou a recomendar ivermectina para Covid-19 Post no WhatsApp De repente, a Ivermectina aparece no site do NIH...</td>\n",
              "    </tr>\n",
              "    <tr>\n",
              "      <th>5</th>\n",
              "      <td>É falso que arma usada em atentado contra Cristina Kirchner era uma pistola d'água</td>\n",
              "      <td>Mais uma palhaçada da Cristina Kirchner Comunista, tudo foi uma armação não tinha bala na pistola 🔫 tinha água e a mídia fazendo o trabalho sujo d...</td>\n",
              "      <td>Publicação no Facebook</td>\n",
              "      <td>https://lupa.uol.com.br/jornalismo/2022/09/07/cristina-kirchner-pistola-agua</td>\n",
              "      <td>1</td>\n",
              "      <td>Lupa - UOL</td>\n",
              "      <td>lupa.uol.com.br</td>\n",
              "      <td>2022-09-02T00:00:00Z</td>\n",
              "      <td>É falso que arma usada em atentado contra Cristina Kirchner era uma pistola d'água Publicação no Facebook Mais uma palhaçada da Cristina Kirchner ...</td>\n",
              "    </tr>\n",
              "    <tr>\n",
              "      <th>6</th>\n",
              "      <td>Foto antiga do Burj Khalifa com as cores do Brasil viralizou nas redes</td>\n",
              "      <td>O edifício mais alto do mundo, o Burj Khalifa, em Dubai, está iluminado com as cores da bandeira brasileira por conta do Dia da Independência”</td>\n",
              "      <td>Publicação no Facebook</td>\n",
              "      <td>https://lupa.uol.com.br/jornalismo/2022/09/07/burj-khalifa-7-setembro</td>\n",
              "      <td>1</td>\n",
              "      <td>Lupa - UOL</td>\n",
              "      <td>lupa.uol.com.br</td>\n",
              "      <td>2022-09-06T00:00:00Z</td>\n",
              "      <td>Foto antiga do Burj Khalifa com as cores do Brasil viralizou nas redes Publicação no Facebook O edifício mais alto do mundo, o Burj Khalifa, em Du...</td>\n",
              "    </tr>\n",
              "    <tr>\n",
              "      <th>11</th>\n",
              "      <td>É antigo vídeo em que paraquedistas comentam sobre a expectativa para os atos de 7 de setembro</td>\n",
              "      <td>Clima ontem a noite em Brasília, aguardando o 7 de setembro</td>\n",
              "      <td>Publicação no WhatsApp</td>\n",
              "      <td>https://lupa.uol.com.br/jornalismo/2022/09/07/paraquedistas-atos-7-setembro</td>\n",
              "      <td>1</td>\n",
              "      <td>Lupa - UOL</td>\n",
              "      <td>lupa.uol.com.br</td>\n",
              "      <td>2022-09-07T00:00:00Z</td>\n",
              "      <td>É antigo vídeo em que paraquedistas comentam sobre a expectativa para os atos de 7 de setembro Publicação no WhatsApp Clima ontem a noite em Brasí...</td>\n",
              "    </tr>\n",
              "  </tbody>\n",
              "</table>\n",
              "</div>\n",
              "      <button class=\"colab-df-convert\" onclick=\"convertToInteractive('df-90ea34ae-3139-4b07-850e-0d6e21ed5e7b')\"\n",
              "              title=\"Convert this dataframe to an interactive table.\"\n",
              "              style=\"display:none;\">\n",
              "        \n",
              "  <svg xmlns=\"http://www.w3.org/2000/svg\" height=\"24px\"viewBox=\"0 0 24 24\"\n",
              "       width=\"24px\">\n",
              "    <path d=\"M0 0h24v24H0V0z\" fill=\"none\"/>\n",
              "    <path d=\"M18.56 5.44l.94 2.06.94-2.06 2.06-.94-2.06-.94-.94-2.06-.94 2.06-2.06.94zm-11 1L8.5 8.5l.94-2.06 2.06-.94-2.06-.94L8.5 2.5l-.94 2.06-2.06.94zm10 10l.94 2.06.94-2.06 2.06-.94-2.06-.94-.94-2.06-.94 2.06-2.06.94z\"/><path d=\"M17.41 7.96l-1.37-1.37c-.4-.4-.92-.59-1.43-.59-.52 0-1.04.2-1.43.59L10.3 9.45l-7.72 7.72c-.78.78-.78 2.05 0 2.83L4 21.41c.39.39.9.59 1.41.59.51 0 1.02-.2 1.41-.59l7.78-7.78 2.81-2.81c.8-.78.8-2.07 0-2.86zM5.41 20L4 18.59l7.72-7.72 1.47 1.35L5.41 20z\"/>\n",
              "  </svg>\n",
              "      </button>\n",
              "      \n",
              "  <style>\n",
              "    .colab-df-container {\n",
              "      display:flex;\n",
              "      flex-wrap:wrap;\n",
              "      gap: 12px;\n",
              "    }\n",
              "\n",
              "    .colab-df-convert {\n",
              "      background-color: #E8F0FE;\n",
              "      border: none;\n",
              "      border-radius: 50%;\n",
              "      cursor: pointer;\n",
              "      display: none;\n",
              "      fill: #1967D2;\n",
              "      height: 32px;\n",
              "      padding: 0 0 0 0;\n",
              "      width: 32px;\n",
              "    }\n",
              "\n",
              "    .colab-df-convert:hover {\n",
              "      background-color: #E2EBFA;\n",
              "      box-shadow: 0px 1px 2px rgba(60, 64, 67, 0.3), 0px 1px 3px 1px rgba(60, 64, 67, 0.15);\n",
              "      fill: #174EA6;\n",
              "    }\n",
              "\n",
              "    [theme=dark] .colab-df-convert {\n",
              "      background-color: #3B4455;\n",
              "      fill: #D2E3FC;\n",
              "    }\n",
              "\n",
              "    [theme=dark] .colab-df-convert:hover {\n",
              "      background-color: #434B5C;\n",
              "      box-shadow: 0px 1px 3px 1px rgba(0, 0, 0, 0.15);\n",
              "      filter: drop-shadow(0px 1px 2px rgba(0, 0, 0, 0.3));\n",
              "      fill: #FFFFFF;\n",
              "    }\n",
              "  </style>\n",
              "\n",
              "      <script>\n",
              "        const buttonEl =\n",
              "          document.querySelector('#df-90ea34ae-3139-4b07-850e-0d6e21ed5e7b button.colab-df-convert');\n",
              "        buttonEl.style.display =\n",
              "          google.colab.kernel.accessAllowed ? 'block' : 'none';\n",
              "\n",
              "        async function convertToInteractive(key) {\n",
              "          const element = document.querySelector('#df-90ea34ae-3139-4b07-850e-0d6e21ed5e7b');\n",
              "          const dataTable =\n",
              "            await google.colab.kernel.invokeFunction('convertToInteractive',\n",
              "                                                     [key], {});\n",
              "          if (!dataTable) return;\n",
              "\n",
              "          const docLinkHtml = 'Like what you see? Visit the ' +\n",
              "            '<a target=\"_blank\" href=https://colab.research.google.com/notebooks/data_table.ipynb>data table notebook</a>'\n",
              "            + ' to learn more about interactive tables.';\n",
              "          element.innerHTML = '';\n",
              "          dataTable['output_type'] = 'display_data';\n",
              "          await google.colab.output.renderOutput(dataTable, element);\n",
              "          const docLink = document.createElement('div');\n",
              "          docLink.innerHTML = docLinkHtml;\n",
              "          element.appendChild(docLink);\n",
              "        }\n",
              "      </script>\n",
              "    </div>\n",
              "  </div>\n",
              "  "
            ]
          },
          "metadata": {},
          "execution_count": 58
        }
      ]
    },
    {
      "cell_type": "code",
      "source": [
        "df.isnull().sum()"
      ],
      "metadata": {
        "colab": {
          "base_uri": "https://localhost:8080/"
        },
        "id": "VoQX59wRFcFt",
        "outputId": "dc8ced2f-f521-460c-c433-5513fe0c5158"
      },
      "execution_count": 59,
      "outputs": [
        {
          "output_type": "execute_result",
          "data": {
            "text/plain": [
              "title             0\n",
              "text              0\n",
              "origin            0\n",
              "url               0\n",
              "label             0\n",
              "publisher_name    0\n",
              "publisher_site    0\n",
              "date              0\n",
              "all               0\n",
              "dtype: int64"
            ]
          },
          "metadata": {},
          "execution_count": 59
        }
      ]
    },
    {
      "cell_type": "code",
      "source": [
        "df.dropna(inplace=True)"
      ],
      "metadata": {
        "id": "V03WhjCPFd6m"
      },
      "execution_count": 60,
      "outputs": []
    },
    {
      "cell_type": "code",
      "source": [
        "df.isnull().sum()"
      ],
      "metadata": {
        "colab": {
          "base_uri": "https://localhost:8080/"
        },
        "id": "YYt6thGOJ4P6",
        "outputId": "45203e22-9461-4b22-fb6b-507341a2c405"
      },
      "execution_count": 61,
      "outputs": [
        {
          "output_type": "execute_result",
          "data": {
            "text/plain": [
              "title             0\n",
              "text              0\n",
              "origin            0\n",
              "url               0\n",
              "label             0\n",
              "publisher_name    0\n",
              "publisher_site    0\n",
              "date              0\n",
              "all               0\n",
              "dtype: int64"
            ]
          },
          "metadata": {},
          "execution_count": 61
        }
      ]
    },
    {
      "cell_type": "code",
      "source": [
        "df['all'] = df['title'] + ' ' + df['origin'] + ' ' + df['text']"
      ],
      "metadata": {
        "id": "0IK6EZ4tM16R"
      },
      "execution_count": 62,
      "outputs": []
    },
    {
      "cell_type": "code",
      "source": [
        "pd.options.display.max_colwidth = 150\n",
        "print(df['all'])"
      ],
      "metadata": {
        "colab": {
          "base_uri": "https://localhost:8080/"
        },
        "id": "vlqtbrpnOdWL",
        "outputId": "24b270e8-cc25-4470-f3ea-1806b5f3529c"
      },
      "execution_count": 63,
      "outputs": [
        {
          "output_type": "stream",
          "name": "stdout",
          "text": [
            "1        Documentos confirmam uso de dinheiro vivo na compra de 51 imóveis da família Bolsonaro Cristina Graeml “Não foi dinheiro vivo. Moeda corrente, que...\n",
            "4        É falso que órgão de saúde dos EUA passou a recomendar ivermectina para Covid-19 Post no WhatsApp De repente, a Ivermectina aparece no site do NIH...\n",
            "5        É falso que arma usada em atentado contra Cristina Kirchner era uma pistola d'água Publicação no Facebook Mais uma palhaçada da Cristina Kirchner ...\n",
            "6        Foto antiga do Burj Khalifa com as cores do Brasil viralizou nas redes Publicação no Facebook O edifício mais alto do mundo, o Burj Khalifa, em Du...\n",
            "11       É antigo vídeo em que paraquedistas comentam sobre a expectativa para os atos de 7 de setembro Publicação no WhatsApp Clima ontem a noite em Brasí...\n",
            "                                                                                 ...                                                                          \n",
            "20473    Paulo Guedes gastou mesmo R$ 120 mil com Viagra? Rumor no Twitter O ministro da Economia Paulo Guedes gastou 120 mil reais com remédio para disfun...\n",
            "20474    A Força Aérea Brasileira produziu 100 mil metros cúbicos de oxigênio e doou para Manaus? Grupos de WhatsApp A Força Aérea Brasileira produziu 100 ...\n",
            "20475    Cuba adotou com sucesso a cloroquina no tratamento de pacientes da COVID? Afirmações de ex-ministro em CPI Cuba adotou com sucesso a cloroquina no...\n",
            "20476    A Cinderela usava sapatos de pele de esquilos na história original? Publicações nas redes sociais A Cinderela usava sapatos de pele de esquilos na...\n",
            "20477    É verdade que 2% da arrecadação dos veículos do Mercosul são revertidos para a reconstrução de Cuba (Renac)? Grupos de WhatsApp 2% da arrecadação ...\n",
            "Name: all, Length: 12994, dtype: object\n"
          ]
        }
      ]
    },
    {
      "cell_type": "code",
      "source": [
        "porter_stemmer = PorterStemmer()\n",
        "\n",
        "\n",
        "def stemming_tokenizer(df):\n",
        "\n",
        "    words= re.sub(r\"[^A-Za-z]\", \" \",df).lower().split()\n",
        "    words= [porter_stemmer.stem(word) for word in words if not words in stopwords]\n",
        "    words= ' '.join(words)\n",
        "    return words"
      ],
      "metadata": {
        "id": "0AQsx7SOaVkO"
      },
      "execution_count": 64,
      "outputs": []
    }
  ]
}