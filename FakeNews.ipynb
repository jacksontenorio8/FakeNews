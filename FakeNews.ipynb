{
  "nbformat": 4,
  "nbformat_minor": 0,
  "metadata": {
    "colab": {
      "provenance": [],
      "mount_file_id": "1lmzEO3GNL-TK8lr5_ozvJgCUnYwSlEXC",
      "authorship_tag": "ABX9TyPM0sQ4wby+cwINqm3gjRw3",
      "include_colab_link": true
    },
    "kernelspec": {
      "name": "python3",
      "display_name": "Python 3"
    },
    "language_info": {
      "name": "python"
    }
  },
  "cells": [
    {
      "cell_type": "markdown",
      "metadata": {
        "id": "view-in-github",
        "colab_type": "text"
      },
      "source": [
        "<a href=\"https://colab.research.google.com/github/jacksontenorio8/FakeNews/blob/main/FakeNews.ipynb\" target=\"_parent\"><img src=\"https://colab.research.google.com/assets/colab-badge.svg\" alt=\"Open In Colab\"/></a>"
      ]
    },
    {
      "cell_type": "code",
      "execution_count": 1,
      "metadata": {
        "id": "v7NLUONJ_fiA"
      },
      "outputs": [],
      "source": [
        "import pandas as pd\n",
        "import numpy as np\n",
        "import re\n",
        "import nltk\n",
        "from nltk.corpus import stopwords\n",
        "from nltk.stem.porter import PorterStemmer\n",
        "from sklearn.feature_extraction.text import TfidfVectorizer\n",
        "from sklearn.model_selection import train_test_split\n",
        "from sklearn.linear_model import LogisticRegression\n",
        "from sklearn.metrics import accuracy_score "
      ]
    },
    {
      "cell_type": "code",
      "source": [
        "nltk.download('stopwords')"
      ],
      "metadata": {
        "colab": {
          "base_uri": "https://localhost:8080/"
        },
        "id": "MxSwicO39fR1",
        "outputId": "63c66800-7b4b-42a3-c95f-95880711079a"
      },
      "execution_count": 2,
      "outputs": [
        {
          "output_type": "stream",
          "name": "stderr",
          "text": [
            "[nltk_data] Downloading package stopwords to /root/nltk_data...\n",
            "[nltk_data]   Unzipping corpora/stopwords.zip.\n"
          ]
        },
        {
          "output_type": "execute_result",
          "data": {
            "text/plain": [
              "True"
            ]
          },
          "metadata": {},
          "execution_count": 2
        }
      ]
    },
    {
      "cell_type": "code",
      "source": [
        "print(stopwords.words('portuguese'))"
      ],
      "metadata": {
        "colab": {
          "base_uri": "https://localhost:8080/"
        },
        "id": "hx06zTXe-TZ8",
        "outputId": "62ab7ddc-366b-4fe0-96ff-2ffaf1109510"
      },
      "execution_count": 3,
      "outputs": [
        {
          "output_type": "stream",
          "name": "stdout",
          "text": [
            "['a', 'à', 'ao', 'aos', 'aquela', 'aquelas', 'aquele', 'aqueles', 'aquilo', 'as', 'às', 'até', 'com', 'como', 'da', 'das', 'de', 'dela', 'delas', 'dele', 'deles', 'depois', 'do', 'dos', 'e', 'é', 'ela', 'elas', 'ele', 'eles', 'em', 'entre', 'era', 'eram', 'éramos', 'essa', 'essas', 'esse', 'esses', 'esta', 'está', 'estamos', 'estão', 'estar', 'estas', 'estava', 'estavam', 'estávamos', 'este', 'esteja', 'estejam', 'estejamos', 'estes', 'esteve', 'estive', 'estivemos', 'estiver', 'estivera', 'estiveram', 'estivéramos', 'estiverem', 'estivermos', 'estivesse', 'estivessem', 'estivéssemos', 'estou', 'eu', 'foi', 'fomos', 'for', 'fora', 'foram', 'fôramos', 'forem', 'formos', 'fosse', 'fossem', 'fôssemos', 'fui', 'há', 'haja', 'hajam', 'hajamos', 'hão', 'havemos', 'haver', 'hei', 'houve', 'houvemos', 'houver', 'houvera', 'houverá', 'houveram', 'houvéramos', 'houverão', 'houverei', 'houverem', 'houveremos', 'houveria', 'houveriam', 'houveríamos', 'houvermos', 'houvesse', 'houvessem', 'houvéssemos', 'isso', 'isto', 'já', 'lhe', 'lhes', 'mais', 'mas', 'me', 'mesmo', 'meu', 'meus', 'minha', 'minhas', 'muito', 'na', 'não', 'nas', 'nem', 'no', 'nos', 'nós', 'nossa', 'nossas', 'nosso', 'nossos', 'num', 'numa', 'o', 'os', 'ou', 'para', 'pela', 'pelas', 'pelo', 'pelos', 'por', 'qual', 'quando', 'que', 'quem', 'são', 'se', 'seja', 'sejam', 'sejamos', 'sem', 'ser', 'será', 'serão', 'serei', 'seremos', 'seria', 'seriam', 'seríamos', 'seu', 'seus', 'só', 'somos', 'sou', 'sua', 'suas', 'também', 'te', 'tem', 'tém', 'temos', 'tenha', 'tenham', 'tenhamos', 'tenho', 'terá', 'terão', 'terei', 'teremos', 'teria', 'teriam', 'teríamos', 'teu', 'teus', 'teve', 'tinha', 'tinham', 'tínhamos', 'tive', 'tivemos', 'tiver', 'tivera', 'tiveram', 'tivéramos', 'tiverem', 'tivermos', 'tivesse', 'tivessem', 'tivéssemos', 'tu', 'tua', 'tuas', 'um', 'uma', 'você', 'vocês', 'vos']\n"
          ]
        }
      ]
    },
    {
      "cell_type": "code",
      "source": [
        "df = pd.read_csv('/content/drive/MyDrive/fakenews/true.csv', encoding='utf-8')"
      ],
      "metadata": {
        "id": "8GufIhFJC7s2"
      },
      "execution_count": 4,
      "outputs": []
    },
    {
      "cell_type": "markdown",
      "source": [
        "# Nova secção"
      ],
      "metadata": {
        "id": "Mb83u2ULF0bn"
      }
    },
    {
      "cell_type": "code",
      "source": [
        "df.head()"
      ],
      "metadata": {
        "colab": {
          "base_uri": "https://localhost:8080/",
          "height": 337
        },
        "id": "nsEuoIo9Do8w",
        "outputId": "e745c18a-4120-46c1-eed9-1c060d4fc916"
      },
      "execution_count": 5,
      "outputs": [
        {
          "output_type": "execute_result",
          "data": {
            "text/plain": [
              "                                               title  \\\n",
              "0  Jovem Pan: o que é falso e o que é verdadeiro ...   \n",
              "1  Jovem Pan: o que é falso e o que é verdadeiro ...   \n",
              "2  De cargos secretos a segurança: veja erros e a...   \n",
              "3  De cargos secretos a segurança: veja erros e a...   \n",
              "4  De cargos secretos a segurança: veja erros e a...   \n",
              "\n",
              "                                                text                origin  \\\n",
              "0  As propostas de manter zerados impostos federa...        Jair Bolsonaro   \n",
              "1  Estatais dão lucro de mais de R$ 100 bilhões e...        Jair Bolsonaro   \n",
              "2  A água foi privatizada. A Cedae não acabou. Es...  Marcelo Freixo (PSB)   \n",
              "3  São quase 3 milhões de pessoas passando fome [...  Marcelo Freixo (PSB)   \n",
              "4  [Cláudio Castro] tem pouco mais de 20% de ótim...  Marcelo Freixo (PSB)   \n",
              "\n",
              "                                                 url  label publisher_name  \\\n",
              "0  https://lupa.uol.com.br/jornalismo/2022/09/06/...      0     Lupa - UOL   \n",
              "1  https://lupa.uol.com.br/jornalismo/2022/09/06/...      0     Lupa - UOL   \n",
              "2  https://lupa.uol.com.br/jornalismo/2022/09/01/...      0     Lupa - UOL   \n",
              "3  https://lupa.uol.com.br/jornalismo/2022/09/01/...      0     Lupa - UOL   \n",
              "4  https://lupa.uol.com.br/jornalismo/2022/09/01/...      0     Lupa - UOL   \n",
              "\n",
              "    publisher_site date  \n",
              "0  lupa.uol.com.br  NaN  \n",
              "1  lupa.uol.com.br  NaN  \n",
              "2  lupa.uol.com.br  NaN  \n",
              "3  lupa.uol.com.br  NaN  \n",
              "4  lupa.uol.com.br  NaN  "
            ],
            "text/html": [
              "\n",
              "  <div id=\"df-d6d1ba1d-5b55-4047-a629-288a9594de40\">\n",
              "    <div class=\"colab-df-container\">\n",
              "      <div>\n",
              "<style scoped>\n",
              "    .dataframe tbody tr th:only-of-type {\n",
              "        vertical-align: middle;\n",
              "    }\n",
              "\n",
              "    .dataframe tbody tr th {\n",
              "        vertical-align: top;\n",
              "    }\n",
              "\n",
              "    .dataframe thead th {\n",
              "        text-align: right;\n",
              "    }\n",
              "</style>\n",
              "<table border=\"1\" class=\"dataframe\">\n",
              "  <thead>\n",
              "    <tr style=\"text-align: right;\">\n",
              "      <th></th>\n",
              "      <th>title</th>\n",
              "      <th>text</th>\n",
              "      <th>origin</th>\n",
              "      <th>url</th>\n",
              "      <th>label</th>\n",
              "      <th>publisher_name</th>\n",
              "      <th>publisher_site</th>\n",
              "      <th>date</th>\n",
              "    </tr>\n",
              "  </thead>\n",
              "  <tbody>\n",
              "    <tr>\n",
              "      <th>0</th>\n",
              "      <td>Jovem Pan: o que é falso e o que é verdadeiro ...</td>\n",
              "      <td>As propostas de manter zerados impostos federa...</td>\n",
              "      <td>Jair Bolsonaro</td>\n",
              "      <td>https://lupa.uol.com.br/jornalismo/2022/09/06/...</td>\n",
              "      <td>0</td>\n",
              "      <td>Lupa - UOL</td>\n",
              "      <td>lupa.uol.com.br</td>\n",
              "      <td>NaN</td>\n",
              "    </tr>\n",
              "    <tr>\n",
              "      <th>1</th>\n",
              "      <td>Jovem Pan: o que é falso e o que é verdadeiro ...</td>\n",
              "      <td>Estatais dão lucro de mais de R$ 100 bilhões e...</td>\n",
              "      <td>Jair Bolsonaro</td>\n",
              "      <td>https://lupa.uol.com.br/jornalismo/2022/09/06/...</td>\n",
              "      <td>0</td>\n",
              "      <td>Lupa - UOL</td>\n",
              "      <td>lupa.uol.com.br</td>\n",
              "      <td>NaN</td>\n",
              "    </tr>\n",
              "    <tr>\n",
              "      <th>2</th>\n",
              "      <td>De cargos secretos a segurança: veja erros e a...</td>\n",
              "      <td>A água foi privatizada. A Cedae não acabou. Es...</td>\n",
              "      <td>Marcelo Freixo (PSB)</td>\n",
              "      <td>https://lupa.uol.com.br/jornalismo/2022/09/01/...</td>\n",
              "      <td>0</td>\n",
              "      <td>Lupa - UOL</td>\n",
              "      <td>lupa.uol.com.br</td>\n",
              "      <td>NaN</td>\n",
              "    </tr>\n",
              "    <tr>\n",
              "      <th>3</th>\n",
              "      <td>De cargos secretos a segurança: veja erros e a...</td>\n",
              "      <td>São quase 3 milhões de pessoas passando fome [...</td>\n",
              "      <td>Marcelo Freixo (PSB)</td>\n",
              "      <td>https://lupa.uol.com.br/jornalismo/2022/09/01/...</td>\n",
              "      <td>0</td>\n",
              "      <td>Lupa - UOL</td>\n",
              "      <td>lupa.uol.com.br</td>\n",
              "      <td>NaN</td>\n",
              "    </tr>\n",
              "    <tr>\n",
              "      <th>4</th>\n",
              "      <td>De cargos secretos a segurança: veja erros e a...</td>\n",
              "      <td>[Cláudio Castro] tem pouco mais de 20% de ótim...</td>\n",
              "      <td>Marcelo Freixo (PSB)</td>\n",
              "      <td>https://lupa.uol.com.br/jornalismo/2022/09/01/...</td>\n",
              "      <td>0</td>\n",
              "      <td>Lupa - UOL</td>\n",
              "      <td>lupa.uol.com.br</td>\n",
              "      <td>NaN</td>\n",
              "    </tr>\n",
              "  </tbody>\n",
              "</table>\n",
              "</div>\n",
              "      <button class=\"colab-df-convert\" onclick=\"convertToInteractive('df-d6d1ba1d-5b55-4047-a629-288a9594de40')\"\n",
              "              title=\"Convert this dataframe to an interactive table.\"\n",
              "              style=\"display:none;\">\n",
              "        \n",
              "  <svg xmlns=\"http://www.w3.org/2000/svg\" height=\"24px\"viewBox=\"0 0 24 24\"\n",
              "       width=\"24px\">\n",
              "    <path d=\"M0 0h24v24H0V0z\" fill=\"none\"/>\n",
              "    <path d=\"M18.56 5.44l.94 2.06.94-2.06 2.06-.94-2.06-.94-.94-2.06-.94 2.06-2.06.94zm-11 1L8.5 8.5l.94-2.06 2.06-.94-2.06-.94L8.5 2.5l-.94 2.06-2.06.94zm10 10l.94 2.06.94-2.06 2.06-.94-2.06-.94-.94-2.06-.94 2.06-2.06.94z\"/><path d=\"M17.41 7.96l-1.37-1.37c-.4-.4-.92-.59-1.43-.59-.52 0-1.04.2-1.43.59L10.3 9.45l-7.72 7.72c-.78.78-.78 2.05 0 2.83L4 21.41c.39.39.9.59 1.41.59.51 0 1.02-.2 1.41-.59l7.78-7.78 2.81-2.81c.8-.78.8-2.07 0-2.86zM5.41 20L4 18.59l7.72-7.72 1.47 1.35L5.41 20z\"/>\n",
              "  </svg>\n",
              "      </button>\n",
              "      \n",
              "  <style>\n",
              "    .colab-df-container {\n",
              "      display:flex;\n",
              "      flex-wrap:wrap;\n",
              "      gap: 12px;\n",
              "    }\n",
              "\n",
              "    .colab-df-convert {\n",
              "      background-color: #E8F0FE;\n",
              "      border: none;\n",
              "      border-radius: 50%;\n",
              "      cursor: pointer;\n",
              "      display: none;\n",
              "      fill: #1967D2;\n",
              "      height: 32px;\n",
              "      padding: 0 0 0 0;\n",
              "      width: 32px;\n",
              "    }\n",
              "\n",
              "    .colab-df-convert:hover {\n",
              "      background-color: #E2EBFA;\n",
              "      box-shadow: 0px 1px 2px rgba(60, 64, 67, 0.3), 0px 1px 3px 1px rgba(60, 64, 67, 0.15);\n",
              "      fill: #174EA6;\n",
              "    }\n",
              "\n",
              "    [theme=dark] .colab-df-convert {\n",
              "      background-color: #3B4455;\n",
              "      fill: #D2E3FC;\n",
              "    }\n",
              "\n",
              "    [theme=dark] .colab-df-convert:hover {\n",
              "      background-color: #434B5C;\n",
              "      box-shadow: 0px 1px 3px 1px rgba(0, 0, 0, 0.15);\n",
              "      filter: drop-shadow(0px 1px 2px rgba(0, 0, 0, 0.3));\n",
              "      fill: #FFFFFF;\n",
              "    }\n",
              "  </style>\n",
              "\n",
              "      <script>\n",
              "        const buttonEl =\n",
              "          document.querySelector('#df-d6d1ba1d-5b55-4047-a629-288a9594de40 button.colab-df-convert');\n",
              "        buttonEl.style.display =\n",
              "          google.colab.kernel.accessAllowed ? 'block' : 'none';\n",
              "\n",
              "        async function convertToInteractive(key) {\n",
              "          const element = document.querySelector('#df-d6d1ba1d-5b55-4047-a629-288a9594de40');\n",
              "          const dataTable =\n",
              "            await google.colab.kernel.invokeFunction('convertToInteractive',\n",
              "                                                     [key], {});\n",
              "          if (!dataTable) return;\n",
              "\n",
              "          const docLinkHtml = 'Like what you see? Visit the ' +\n",
              "            '<a target=\"_blank\" href=https://colab.research.google.com/notebooks/data_table.ipynb>data table notebook</a>'\n",
              "            + ' to learn more about interactive tables.';\n",
              "          element.innerHTML = '';\n",
              "          dataTable['output_type'] = 'display_data';\n",
              "          await google.colab.output.renderOutput(dataTable, element);\n",
              "          const docLink = document.createElement('div');\n",
              "          docLink.innerHTML = docLinkHtml;\n",
              "          element.appendChild(docLink);\n",
              "        }\n",
              "      </script>\n",
              "    </div>\n",
              "  </div>\n",
              "  "
            ]
          },
          "metadata": {},
          "execution_count": 5
        }
      ]
    },
    {
      "cell_type": "code",
      "source": [
        "df = pd.read_csv('/content/drive/MyDrive/fakenews/fakes.csv',encoding='utf-8')"
      ],
      "metadata": {
        "id": "o8CDVqr3FKVh"
      },
      "execution_count": 6,
      "outputs": []
    },
    {
      "cell_type": "code",
      "source": [
        "df.isnull().sum()"
      ],
      "metadata": {
        "colab": {
          "base_uri": "https://localhost:8080/"
        },
        "id": "RX2ZU495Dic3",
        "outputId": "8cd27383-45b3-4887-bc9b-ff392c3f240e"
      },
      "execution_count": 7,
      "outputs": [
        {
          "output_type": "execute_result",
          "data": {
            "text/plain": [
              "title                0\n",
              "text                 0\n",
              "origin            4644\n",
              "url                  0\n",
              "label                0\n",
              "publisher_name     363\n",
              "publisher_site       0\n",
              "date              3036\n",
              "dtype: int64"
            ]
          },
          "metadata": {},
          "execution_count": 7
        }
      ]
    },
    {
      "cell_type": "code",
      "source": [
        "df.dropna(inplace=True)"
      ],
      "metadata": {
        "id": "eBDUSk_KI7fw"
      },
      "execution_count": 8,
      "outputs": []
    },
    {
      "cell_type": "code",
      "source": [
        "df.isnull().sum()"
      ],
      "metadata": {
        "colab": {
          "base_uri": "https://localhost:8080/"
        },
        "id": "GmEkNYmGJspg",
        "outputId": "4fb1f832-947d-4ba0-cc1c-f0046318845c"
      },
      "execution_count": 9,
      "outputs": [
        {
          "output_type": "execute_result",
          "data": {
            "text/plain": [
              "title             0\n",
              "text              0\n",
              "origin            0\n",
              "url               0\n",
              "label             0\n",
              "publisher_name    0\n",
              "publisher_site    0\n",
              "date              0\n",
              "dtype: int64"
            ]
          },
          "metadata": {},
          "execution_count": 9
        }
      ]
    },
    {
      "cell_type": "code",
      "source": [
        "df['all'] = df['title'] + ' ' + df['origin'] + ' ' + df['text'] "
      ],
      "metadata": {
        "id": "TjQDg0xDK_73"
      },
      "execution_count": 10,
      "outputs": []
    },
    {
      "cell_type": "code",
      "source": [
        "pd.options.display.max_colwidth = 150"
      ],
      "metadata": {
        "id": "8nll9rSLNuRy"
      },
      "execution_count": 11,
      "outputs": []
    },
    {
      "cell_type": "code",
      "source": [
        "print(df['all'])"
      ],
      "metadata": {
        "colab": {
          "base_uri": "https://localhost:8080/"
        },
        "id": "B_Pc3nYwO-gj",
        "outputId": "83f17275-38e5-470e-c7d3-521d1f55c98e"
      },
      "execution_count": 12,
      "outputs": [
        {
          "output_type": "stream",
          "name": "stdout",
          "text": [
            "1        Documentos confirmam uso de dinheiro vivo na compra de 51 imóveis da família Bolsonaro Cristina Graeml “Não foi dinheiro vivo. Moeda corrente, que...\n",
            "4        É falso que órgão de saúde dos EUA passou a recomendar ivermectina para Covid-19 Post no WhatsApp De repente, a Ivermectina aparece no site do NIH...\n",
            "5        É falso que arma usada em atentado contra Cristina Kirchner era uma pistola d'água Publicação no Facebook Mais uma palhaçada da Cristina Kirchner ...\n",
            "6        Foto antiga do Burj Khalifa com as cores do Brasil viralizou nas redes Publicação no Facebook O edifício mais alto do mundo, o Burj Khalifa, em Du...\n",
            "11       É antigo vídeo em que paraquedistas comentam sobre a expectativa para os atos de 7 de setembro Publicação no WhatsApp Clima ontem a noite em Brasí...\n",
            "                                                                                 ...                                                                          \n",
            "20473    Paulo Guedes gastou mesmo R$ 120 mil com Viagra? Rumor no Twitter O ministro da Economia Paulo Guedes gastou 120 mil reais com remédio para disfun...\n",
            "20474    A Força Aérea Brasileira produziu 100 mil metros cúbicos de oxigênio e doou para Manaus? Grupos de WhatsApp A Força Aérea Brasileira produziu 100 ...\n",
            "20475    Cuba adotou com sucesso a cloroquina no tratamento de pacientes da COVID? Afirmações de ex-ministro em CPI Cuba adotou com sucesso a cloroquina no...\n",
            "20476    A Cinderela usava sapatos de pele de esquilos na história original? Publicações nas redes sociais A Cinderela usava sapatos de pele de esquilos na...\n",
            "20477    É verdade que 2% da arrecadação dos veículos do Mercosul são revertidos para a reconstrução de Cuba (Renac)? Grupos de WhatsApp 2% da arrecadação ...\n",
            "Name: all, Length: 12994, dtype: object\n"
          ]
        }
      ]
    },
    {
      "cell_type": "code",
      "source": [
        "porter_stemmer = PorterStemmer()\n",
        "\n",
        "\n",
        "def stemming_tokenizer(df):\n",
        "\n",
        "    words= re.sub(r\"[^A-Za-z]\", \" \",df).lower().split()\n",
        "    words= [porter_stemmer.stem(word) for word in words if not words in stopwords.words('portuguese')]\n",
        "    words= ' '.join(words)\n",
        "    return words"
      ],
      "metadata": {
        "id": "A_jhWXjr-sIq"
      },
      "execution_count": 13,
      "outputs": []
    },
    {
      "cell_type": "code",
      "source": [
        "df['features'] = df['all'].apply(stemming_tokenizer)"
      ],
      "metadata": {
        "id": "gW_q0jzphScT"
      },
      "execution_count": 14,
      "outputs": []
    },
    {
      "cell_type": "code",
      "source": [
        "print(df['features'])"
      ],
      "metadata": {
        "colab": {
          "base_uri": "https://localhost:8080/"
        },
        "id": "IRb98y14kUrG",
        "outputId": "184b0e52-36d6-45bb-b0cd-23e40ee50021"
      },
      "execution_count": 15,
      "outputs": [
        {
          "output_type": "stream",
          "name": "stdout",
          "text": [
            "1        documento confirmam uso de dinheiro vivo na compra de im vei da fam lia bolsonaro cristina graeml n o foi dinheiro vivo moeda corrent quer dizer o...\n",
            "4        falso que rg o de sa de do eua passou a recomendar ivermectina para covid post no whatsapp de repent a ivermectina aparec no site do nih para trat...\n",
            "5        falso que arma usada em atentado contra cristina kirchner era uma pistola d gua publica o no facebook mai uma palha ada da cristina kirchner comun...\n",
            "6        foto antiga do burj khalifa com as core do brasil viraliz na rede publica o no facebook o edif cio mai alto do mundo o burj khalifa em dubai est i...\n",
            "11       antigo v deo em que paraquedista comentam sobr a expectativa para os ato de de setembro publica o no whatsapp clima ontem a noit em bra lia aguard...\n",
            "                                                                                 ...                                                                          \n",
            "20473             paulo gued gastou mesmo r mil com viagra rumor no twitter o ministro da economia paulo gued gastou mil reai com rem dio para disfun o er til\n",
            "20474    a for a a rea brasileira produziu mil metro c bico de oxig nio e doou para manau grupo de whatsapp a for a a rea brasileira produziu mil metro c b...\n",
            "20475    cuba adot com sucesso a cloroquina no tratamento de pacient da covid afirma es de ex ministro em cpi cuba adot com sucesso a cloroquina no tratame...\n",
            "20476    a cinderela usava sapato de pele de esquilo na hist ria origin publica es na rede sociai a cinderela usava sapato de pele de esquilo na hist ria o...\n",
            "20477    verdad que da arrecada o do ve culo do mercosul s o revertido para a reconstru o de cuba renac grupo de whatsapp da arrecada o do ve culo do merco...\n",
            "Name: features, Length: 12994, dtype: object\n"
          ]
        }
      ]
    },
    {
      "cell_type": "code",
      "source": [
        "X = df['features'].values\n",
        "Y = df['label'].values"
      ],
      "metadata": {
        "id": "4Iet5Uf-MuOj"
      },
      "execution_count": 22,
      "outputs": []
    },
    {
      "cell_type": "code",
      "source": [
        "Y"
      ],
      "metadata": {
        "colab": {
          "base_uri": "https://localhost:8080/"
        },
        "id": "cwp7g4dMNHyN",
        "outputId": "b77b222a-be42-4f28-d083-24d64572d6b2"
      },
      "execution_count": 24,
      "outputs": [
        {
          "output_type": "execute_result",
          "data": {
            "text/plain": [
              "array([1, 1, 1, ..., 1, 1, 1])"
            ]
          },
          "metadata": {},
          "execution_count": 24
        }
      ]
    },
    {
      "cell_type": "code",
      "source": [
        "vectorizer = TfidfVectorizer()\n",
        "vectorizer.fit(X)"
      ],
      "metadata": {
        "colab": {
          "base_uri": "https://localhost:8080/"
        },
        "id": "Mw7M6MhnWYOF",
        "outputId": "f7808875-3f3b-4467-9e6f-c340a401e59e"
      },
      "execution_count": 25,
      "outputs": [
        {
          "output_type": "execute_result",
          "data": {
            "text/plain": [
              "TfidfVectorizer()"
            ]
          },
          "metadata": {},
          "execution_count": 25
        }
      ]
    },
    {
      "cell_type": "code",
      "source": [
        "X = vectorizer.transform(X)"
      ],
      "metadata": {
        "id": "f1HebS-dWvHN"
      },
      "execution_count": 26,
      "outputs": []
    },
    {
      "cell_type": "code",
      "source": [],
      "metadata": {
        "id": "CAGcuHqJYNG5"
      },
      "execution_count": null,
      "outputs": []
    },
    {
      "cell_type": "code",
      "source": [
        "df.head()"
      ],
      "metadata": {
        "id": "Hm35VHqxFufP",
        "outputId": "f98843d8-6414-4620-ac08-56a4211ac361",
        "colab": {
          "base_uri": "https://localhost:8080/",
          "height": 1000
        }
      },
      "execution_count": 16,
      "outputs": [
        {
          "output_type": "execute_result",
          "data": {
            "text/plain": [
              "                                                                                             title  \\\n",
              "1           Documentos confirmam uso de dinheiro vivo na compra de 51 imóveis da família Bolsonaro   \n",
              "4                 É falso que órgão de saúde dos EUA passou a recomendar ivermectina para Covid-19   \n",
              "5               É falso que arma usada em atentado contra Cristina Kirchner era uma pistola d'água   \n",
              "6                           Foto antiga do Burj Khalifa com as cores do Brasil viralizou nas redes   \n",
              "11  É antigo vídeo em que paraquedistas comentam sobre a expectativa para os atos de 7 de setembro   \n",
              "\n",
              "                                                                                                                                                     text  \\\n",
              "1   “Não foi dinheiro vivo. Moeda corrente, quer dizer o dinheiro do país. Então, se um imóvel foi comprado em moeda corrente, significa que ele foi c...   \n",
              "4   De repente, a Ivermectina aparece no site do NIH para tratar o Covid. Depois de anos de negação, bloqueio, interferência, difamação, arruinando co...   \n",
              "5   Mais uma palhaçada da Cristina Kirchner Comunista, tudo foi uma armação não tinha bala na pistola 🔫 tinha água e a mídia fazendo o trabalho sujo d...   \n",
              "6          O edifício mais alto do mundo, o Burj Khalifa, em Dubai, está iluminado com as cores da bandeira brasileira por conta do Dia da Independência”   \n",
              "11                                                                                            Clima ontem a noite em Brasília, aguardando o 7 de setembro   \n",
              "\n",
              "                    origin  \\\n",
              "1          Cristina Graeml   \n",
              "4         Post no WhatsApp   \n",
              "5   Publicação no Facebook   \n",
              "6   Publicação no Facebook   \n",
              "11  Publicação no WhatsApp   \n",
              "\n",
              "                                                                                   url  \\\n",
              "1                      https://lupa.uol.com.br/jornalismo/2022/09/09/dinheiro-vivo-uol   \n",
              "4   https://lupa.uol.com.br/jornalismo/2022/09/08/orgao-saude-eua-ivermectina-covid-19   \n",
              "5         https://lupa.uol.com.br/jornalismo/2022/09/07/cristina-kirchner-pistola-agua   \n",
              "6                https://lupa.uol.com.br/jornalismo/2022/09/07/burj-khalifa-7-setembro   \n",
              "11         https://lupa.uol.com.br/jornalismo/2022/09/07/paraquedistas-atos-7-setembro   \n",
              "\n",
              "    label publisher_name   publisher_site                  date  \\\n",
              "1       1     Lupa - UOL  lupa.uol.com.br  2022-09-06T00:00:00Z   \n",
              "4       1     Lupa - UOL  lupa.uol.com.br  2022-09-08T00:00:00Z   \n",
              "5       1     Lupa - UOL  lupa.uol.com.br  2022-09-02T00:00:00Z   \n",
              "6       1     Lupa - UOL  lupa.uol.com.br  2022-09-06T00:00:00Z   \n",
              "11      1     Lupa - UOL  lupa.uol.com.br  2022-09-07T00:00:00Z   \n",
              "\n",
              "                                                                                                                                                      all  \\\n",
              "1   Documentos confirmam uso de dinheiro vivo na compra de 51 imóveis da família Bolsonaro Cristina Graeml “Não foi dinheiro vivo. Moeda corrente, que...   \n",
              "4   É falso que órgão de saúde dos EUA passou a recomendar ivermectina para Covid-19 Post no WhatsApp De repente, a Ivermectina aparece no site do NIH...   \n",
              "5   É falso que arma usada em atentado contra Cristina Kirchner era uma pistola d'água Publicação no Facebook Mais uma palhaçada da Cristina Kirchner ...   \n",
              "6   Foto antiga do Burj Khalifa com as cores do Brasil viralizou nas redes Publicação no Facebook O edifício mais alto do mundo, o Burj Khalifa, em Du...   \n",
              "11  É antigo vídeo em que paraquedistas comentam sobre a expectativa para os atos de 7 de setembro Publicação no WhatsApp Clima ontem a noite em Brasí...   \n",
              "\n",
              "                                                                                                                                                 features  \n",
              "1   documento confirmam uso de dinheiro vivo na compra de im vei da fam lia bolsonaro cristina graeml n o foi dinheiro vivo moeda corrent quer dizer o...  \n",
              "4   falso que rg o de sa de do eua passou a recomendar ivermectina para covid post no whatsapp de repent a ivermectina aparec no site do nih para trat...  \n",
              "5   falso que arma usada em atentado contra cristina kirchner era uma pistola d gua publica o no facebook mai uma palha ada da cristina kirchner comun...  \n",
              "6   foto antiga do burj khalifa com as core do brasil viraliz na rede publica o no facebook o edif cio mai alto do mundo o burj khalifa em dubai est i...  \n",
              "11  antigo v deo em que paraquedista comentam sobr a expectativa para os ato de de setembro publica o no whatsapp clima ontem a noit em bra lia aguard...  "
            ],
            "text/html": [
              "\n",
              "  <div id=\"df-39ccbf85-c034-48b0-8726-8b5c85e38aa3\">\n",
              "    <div class=\"colab-df-container\">\n",
              "      <div>\n",
              "<style scoped>\n",
              "    .dataframe tbody tr th:only-of-type {\n",
              "        vertical-align: middle;\n",
              "    }\n",
              "\n",
              "    .dataframe tbody tr th {\n",
              "        vertical-align: top;\n",
              "    }\n",
              "\n",
              "    .dataframe thead th {\n",
              "        text-align: right;\n",
              "    }\n",
              "</style>\n",
              "<table border=\"1\" class=\"dataframe\">\n",
              "  <thead>\n",
              "    <tr style=\"text-align: right;\">\n",
              "      <th></th>\n",
              "      <th>title</th>\n",
              "      <th>text</th>\n",
              "      <th>origin</th>\n",
              "      <th>url</th>\n",
              "      <th>label</th>\n",
              "      <th>publisher_name</th>\n",
              "      <th>publisher_site</th>\n",
              "      <th>date</th>\n",
              "      <th>all</th>\n",
              "      <th>features</th>\n",
              "    </tr>\n",
              "  </thead>\n",
              "  <tbody>\n",
              "    <tr>\n",
              "      <th>1</th>\n",
              "      <td>Documentos confirmam uso de dinheiro vivo na compra de 51 imóveis da família Bolsonaro</td>\n",
              "      <td>“Não foi dinheiro vivo. Moeda corrente, quer dizer o dinheiro do país. Então, se um imóvel foi comprado em moeda corrente, significa que ele foi c...</td>\n",
              "      <td>Cristina Graeml</td>\n",
              "      <td>https://lupa.uol.com.br/jornalismo/2022/09/09/dinheiro-vivo-uol</td>\n",
              "      <td>1</td>\n",
              "      <td>Lupa - UOL</td>\n",
              "      <td>lupa.uol.com.br</td>\n",
              "      <td>2022-09-06T00:00:00Z</td>\n",
              "      <td>Documentos confirmam uso de dinheiro vivo na compra de 51 imóveis da família Bolsonaro Cristina Graeml “Não foi dinheiro vivo. Moeda corrente, que...</td>\n",
              "      <td>documento confirmam uso de dinheiro vivo na compra de im vei da fam lia bolsonaro cristina graeml n o foi dinheiro vivo moeda corrent quer dizer o...</td>\n",
              "    </tr>\n",
              "    <tr>\n",
              "      <th>4</th>\n",
              "      <td>É falso que órgão de saúde dos EUA passou a recomendar ivermectina para Covid-19</td>\n",
              "      <td>De repente, a Ivermectina aparece no site do NIH para tratar o Covid. Depois de anos de negação, bloqueio, interferência, difamação, arruinando co...</td>\n",
              "      <td>Post no WhatsApp</td>\n",
              "      <td>https://lupa.uol.com.br/jornalismo/2022/09/08/orgao-saude-eua-ivermectina-covid-19</td>\n",
              "      <td>1</td>\n",
              "      <td>Lupa - UOL</td>\n",
              "      <td>lupa.uol.com.br</td>\n",
              "      <td>2022-09-08T00:00:00Z</td>\n",
              "      <td>É falso que órgão de saúde dos EUA passou a recomendar ivermectina para Covid-19 Post no WhatsApp De repente, a Ivermectina aparece no site do NIH...</td>\n",
              "      <td>falso que rg o de sa de do eua passou a recomendar ivermectina para covid post no whatsapp de repent a ivermectina aparec no site do nih para trat...</td>\n",
              "    </tr>\n",
              "    <tr>\n",
              "      <th>5</th>\n",
              "      <td>É falso que arma usada em atentado contra Cristina Kirchner era uma pistola d'água</td>\n",
              "      <td>Mais uma palhaçada da Cristina Kirchner Comunista, tudo foi uma armação não tinha bala na pistola 🔫 tinha água e a mídia fazendo o trabalho sujo d...</td>\n",
              "      <td>Publicação no Facebook</td>\n",
              "      <td>https://lupa.uol.com.br/jornalismo/2022/09/07/cristina-kirchner-pistola-agua</td>\n",
              "      <td>1</td>\n",
              "      <td>Lupa - UOL</td>\n",
              "      <td>lupa.uol.com.br</td>\n",
              "      <td>2022-09-02T00:00:00Z</td>\n",
              "      <td>É falso que arma usada em atentado contra Cristina Kirchner era uma pistola d'água Publicação no Facebook Mais uma palhaçada da Cristina Kirchner ...</td>\n",
              "      <td>falso que arma usada em atentado contra cristina kirchner era uma pistola d gua publica o no facebook mai uma palha ada da cristina kirchner comun...</td>\n",
              "    </tr>\n",
              "    <tr>\n",
              "      <th>6</th>\n",
              "      <td>Foto antiga do Burj Khalifa com as cores do Brasil viralizou nas redes</td>\n",
              "      <td>O edifício mais alto do mundo, o Burj Khalifa, em Dubai, está iluminado com as cores da bandeira brasileira por conta do Dia da Independência”</td>\n",
              "      <td>Publicação no Facebook</td>\n",
              "      <td>https://lupa.uol.com.br/jornalismo/2022/09/07/burj-khalifa-7-setembro</td>\n",
              "      <td>1</td>\n",
              "      <td>Lupa - UOL</td>\n",
              "      <td>lupa.uol.com.br</td>\n",
              "      <td>2022-09-06T00:00:00Z</td>\n",
              "      <td>Foto antiga do Burj Khalifa com as cores do Brasil viralizou nas redes Publicação no Facebook O edifício mais alto do mundo, o Burj Khalifa, em Du...</td>\n",
              "      <td>foto antiga do burj khalifa com as core do brasil viraliz na rede publica o no facebook o edif cio mai alto do mundo o burj khalifa em dubai est i...</td>\n",
              "    </tr>\n",
              "    <tr>\n",
              "      <th>11</th>\n",
              "      <td>É antigo vídeo em que paraquedistas comentam sobre a expectativa para os atos de 7 de setembro</td>\n",
              "      <td>Clima ontem a noite em Brasília, aguardando o 7 de setembro</td>\n",
              "      <td>Publicação no WhatsApp</td>\n",
              "      <td>https://lupa.uol.com.br/jornalismo/2022/09/07/paraquedistas-atos-7-setembro</td>\n",
              "      <td>1</td>\n",
              "      <td>Lupa - UOL</td>\n",
              "      <td>lupa.uol.com.br</td>\n",
              "      <td>2022-09-07T00:00:00Z</td>\n",
              "      <td>É antigo vídeo em que paraquedistas comentam sobre a expectativa para os atos de 7 de setembro Publicação no WhatsApp Clima ontem a noite em Brasí...</td>\n",
              "      <td>antigo v deo em que paraquedista comentam sobr a expectativa para os ato de de setembro publica o no whatsapp clima ontem a noit em bra lia aguard...</td>\n",
              "    </tr>\n",
              "  </tbody>\n",
              "</table>\n",
              "</div>\n",
              "      <button class=\"colab-df-convert\" onclick=\"convertToInteractive('df-39ccbf85-c034-48b0-8726-8b5c85e38aa3')\"\n",
              "              title=\"Convert this dataframe to an interactive table.\"\n",
              "              style=\"display:none;\">\n",
              "        \n",
              "  <svg xmlns=\"http://www.w3.org/2000/svg\" height=\"24px\"viewBox=\"0 0 24 24\"\n",
              "       width=\"24px\">\n",
              "    <path d=\"M0 0h24v24H0V0z\" fill=\"none\"/>\n",
              "    <path d=\"M18.56 5.44l.94 2.06.94-2.06 2.06-.94-2.06-.94-.94-2.06-.94 2.06-2.06.94zm-11 1L8.5 8.5l.94-2.06 2.06-.94-2.06-.94L8.5 2.5l-.94 2.06-2.06.94zm10 10l.94 2.06.94-2.06 2.06-.94-2.06-.94-.94-2.06-.94 2.06-2.06.94z\"/><path d=\"M17.41 7.96l-1.37-1.37c-.4-.4-.92-.59-1.43-.59-.52 0-1.04.2-1.43.59L10.3 9.45l-7.72 7.72c-.78.78-.78 2.05 0 2.83L4 21.41c.39.39.9.59 1.41.59.51 0 1.02-.2 1.41-.59l7.78-7.78 2.81-2.81c.8-.78.8-2.07 0-2.86zM5.41 20L4 18.59l7.72-7.72 1.47 1.35L5.41 20z\"/>\n",
              "  </svg>\n",
              "      </button>\n",
              "      \n",
              "  <style>\n",
              "    .colab-df-container {\n",
              "      display:flex;\n",
              "      flex-wrap:wrap;\n",
              "      gap: 12px;\n",
              "    }\n",
              "\n",
              "    .colab-df-convert {\n",
              "      background-color: #E8F0FE;\n",
              "      border: none;\n",
              "      border-radius: 50%;\n",
              "      cursor: pointer;\n",
              "      display: none;\n",
              "      fill: #1967D2;\n",
              "      height: 32px;\n",
              "      padding: 0 0 0 0;\n",
              "      width: 32px;\n",
              "    }\n",
              "\n",
              "    .colab-df-convert:hover {\n",
              "      background-color: #E2EBFA;\n",
              "      box-shadow: 0px 1px 2px rgba(60, 64, 67, 0.3), 0px 1px 3px 1px rgba(60, 64, 67, 0.15);\n",
              "      fill: #174EA6;\n",
              "    }\n",
              "\n",
              "    [theme=dark] .colab-df-convert {\n",
              "      background-color: #3B4455;\n",
              "      fill: #D2E3FC;\n",
              "    }\n",
              "\n",
              "    [theme=dark] .colab-df-convert:hover {\n",
              "      background-color: #434B5C;\n",
              "      box-shadow: 0px 1px 3px 1px rgba(0, 0, 0, 0.15);\n",
              "      filter: drop-shadow(0px 1px 2px rgba(0, 0, 0, 0.3));\n",
              "      fill: #FFFFFF;\n",
              "    }\n",
              "  </style>\n",
              "\n",
              "      <script>\n",
              "        const buttonEl =\n",
              "          document.querySelector('#df-39ccbf85-c034-48b0-8726-8b5c85e38aa3 button.colab-df-convert');\n",
              "        buttonEl.style.display =\n",
              "          google.colab.kernel.accessAllowed ? 'block' : 'none';\n",
              "\n",
              "        async function convertToInteractive(key) {\n",
              "          const element = document.querySelector('#df-39ccbf85-c034-48b0-8726-8b5c85e38aa3');\n",
              "          const dataTable =\n",
              "            await google.colab.kernel.invokeFunction('convertToInteractive',\n",
              "                                                     [key], {});\n",
              "          if (!dataTable) return;\n",
              "\n",
              "          const docLinkHtml = 'Like what you see? Visit the ' +\n",
              "            '<a target=\"_blank\" href=https://colab.research.google.com/notebooks/data_table.ipynb>data table notebook</a>'\n",
              "            + ' to learn more about interactive tables.';\n",
              "          element.innerHTML = '';\n",
              "          dataTable['output_type'] = 'display_data';\n",
              "          await google.colab.output.renderOutput(dataTable, element);\n",
              "          const docLink = document.createElement('div');\n",
              "          docLink.innerHTML = docLinkHtml;\n",
              "          element.appendChild(docLink);\n",
              "        }\n",
              "      </script>\n",
              "    </div>\n",
              "  </div>\n",
              "  "
            ]
          },
          "metadata": {},
          "execution_count": 16
        }
      ]
    },
    {
      "cell_type": "code",
      "source": [
        "df.isnull().sum()"
      ],
      "metadata": {
        "colab": {
          "base_uri": "https://localhost:8080/"
        },
        "id": "VoQX59wRFcFt",
        "outputId": "9589f07f-8f1a-4675-94f8-6a8bcdb8a798"
      },
      "execution_count": 17,
      "outputs": [
        {
          "output_type": "execute_result",
          "data": {
            "text/plain": [
              "title             0\n",
              "text              0\n",
              "origin            0\n",
              "url               0\n",
              "label             0\n",
              "publisher_name    0\n",
              "publisher_site    0\n",
              "date              0\n",
              "all               0\n",
              "features          0\n",
              "dtype: int64"
            ]
          },
          "metadata": {},
          "execution_count": 17
        }
      ]
    },
    {
      "cell_type": "code",
      "source": [
        "df.dropna(inplace=True)"
      ],
      "metadata": {
        "id": "V03WhjCPFd6m"
      },
      "execution_count": 18,
      "outputs": []
    },
    {
      "cell_type": "code",
      "source": [
        "df.isnull().sum()"
      ],
      "metadata": {
        "colab": {
          "base_uri": "https://localhost:8080/"
        },
        "id": "YYt6thGOJ4P6",
        "outputId": "d589e9d6-5ca9-4ea7-da42-8d301e12e14b"
      },
      "execution_count": 19,
      "outputs": [
        {
          "output_type": "execute_result",
          "data": {
            "text/plain": [
              "title             0\n",
              "text              0\n",
              "origin            0\n",
              "url               0\n",
              "label             0\n",
              "publisher_name    0\n",
              "publisher_site    0\n",
              "date              0\n",
              "all               0\n",
              "features          0\n",
              "dtype: int64"
            ]
          },
          "metadata": {},
          "execution_count": 19
        }
      ]
    },
    {
      "cell_type": "code",
      "source": [
        "df['all'] = df['title'] + ' ' + df['origin'] + ' ' + df['text']"
      ],
      "metadata": {
        "id": "0IK6EZ4tM16R"
      },
      "execution_count": 20,
      "outputs": []
    },
    {
      "cell_type": "code",
      "source": [
        "pd.options.display.max_colwidth = 150\n",
        "print(df['all'])"
      ],
      "metadata": {
        "colab": {
          "base_uri": "https://localhost:8080/"
        },
        "id": "vlqtbrpnOdWL",
        "outputId": "8b3e8ad8-2aed-4e02-8edf-d569349c4306"
      },
      "execution_count": 21,
      "outputs": [
        {
          "output_type": "stream",
          "name": "stdout",
          "text": [
            "1        Documentos confirmam uso de dinheiro vivo na compra de 51 imóveis da família Bolsonaro Cristina Graeml “Não foi dinheiro vivo. Moeda corrente, que...\n",
            "4        É falso que órgão de saúde dos EUA passou a recomendar ivermectina para Covid-19 Post no WhatsApp De repente, a Ivermectina aparece no site do NIH...\n",
            "5        É falso que arma usada em atentado contra Cristina Kirchner era uma pistola d'água Publicação no Facebook Mais uma palhaçada da Cristina Kirchner ...\n",
            "6        Foto antiga do Burj Khalifa com as cores do Brasil viralizou nas redes Publicação no Facebook O edifício mais alto do mundo, o Burj Khalifa, em Du...\n",
            "11       É antigo vídeo em que paraquedistas comentam sobre a expectativa para os atos de 7 de setembro Publicação no WhatsApp Clima ontem a noite em Brasí...\n",
            "                                                                                 ...                                                                          \n",
            "20473    Paulo Guedes gastou mesmo R$ 120 mil com Viagra? Rumor no Twitter O ministro da Economia Paulo Guedes gastou 120 mil reais com remédio para disfun...\n",
            "20474    A Força Aérea Brasileira produziu 100 mil metros cúbicos de oxigênio e doou para Manaus? Grupos de WhatsApp A Força Aérea Brasileira produziu 100 ...\n",
            "20475    Cuba adotou com sucesso a cloroquina no tratamento de pacientes da COVID? Afirmações de ex-ministro em CPI Cuba adotou com sucesso a cloroquina no...\n",
            "20476    A Cinderela usava sapatos de pele de esquilos na história original? Publicações nas redes sociais A Cinderela usava sapatos de pele de esquilos na...\n",
            "20477    É verdade que 2% da arrecadação dos veículos do Mercosul são revertidos para a reconstrução de Cuba (Renac)? Grupos de WhatsApp 2% da arrecadação ...\n",
            "Name: all, Length: 12994, dtype: object\n"
          ]
        }
      ]
    }
  ]
}